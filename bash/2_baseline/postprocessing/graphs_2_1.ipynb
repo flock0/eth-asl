{
 "cells": [
  {
   "cell_type": "code",
   "execution_count": 1,
   "metadata": {
    "collapsed": true
   },
   "outputs": [],
   "source": [
    "from gather_averages_2_1 import gather_averages\n",
    "import matplotlib.pyplot as plt"
   ]
  },
  {
   "cell_type": "code",
   "execution_count": 8,
   "metadata": {},
   "outputs": [
    {
     "name": "stdout",
     "output_type": "stream",
     "text": [
      "Input directory is \" /home/flo/Downloads/exp2/2_1_baseline_oneserver_2017-11-10_163538\n",
      "Workload is \" writeOnly\n",
      "Processing directory /home/flo/Downloads/exp2/2_1_baseline_oneserver_2017-11-10_163538/writeOnly_4vc\n",
      "    Repetition 1\n",
      "    Rep directory /home/flo/Downloads/exp2/2_1_baseline_oneserver_2017-11-10_163538/writeOnly_4vc/1\n",
      "    Repetition 2\n",
      "    Rep directory /home/flo/Downloads/exp2/2_1_baseline_oneserver_2017-11-10_163538/writeOnly_4vc/2\n",
      "    Repetition 3\n",
      "    Rep directory /home/flo/Downloads/exp2/2_1_baseline_oneserver_2017-11-10_163538/writeOnly_4vc/3\n",
      "Processing directory /home/flo/Downloads/exp2/2_1_baseline_oneserver_2017-11-10_163538/writeOnly_64vc\n",
      "    Repetition 1\n",
      "    Rep directory /home/flo/Downloads/exp2/2_1_baseline_oneserver_2017-11-10_163538/writeOnly_64vc/1\n",
      "    Repetition 2\n",
      "    Rep directory /home/flo/Downloads/exp2/2_1_baseline_oneserver_2017-11-10_163538/writeOnly_64vc/2\n",
      "    Repetition 3\n",
      "    Rep directory /home/flo/Downloads/exp2/2_1_baseline_oneserver_2017-11-10_163538/writeOnly_64vc/3\n",
      "Processing directory /home/flo/Downloads/exp2/2_1_baseline_oneserver_2017-11-10_163538/writeOnly_32vc\n",
      "    Repetition 1\n",
      "    Rep directory /home/flo/Downloads/exp2/2_1_baseline_oneserver_2017-11-10_163538/writeOnly_32vc/1\n",
      "    Repetition 2\n",
      "    Rep directory /home/flo/Downloads/exp2/2_1_baseline_oneserver_2017-11-10_163538/writeOnly_32vc/2\n",
      "    Repetition 3\n",
      "    Rep directory /home/flo/Downloads/exp2/2_1_baseline_oneserver_2017-11-10_163538/writeOnly_32vc/3\n",
      "Processing directory /home/flo/Downloads/exp2/2_1_baseline_oneserver_2017-11-10_163538/writeOnly_128vc\n",
      "    Repetition 1\n",
      "    Rep directory /home/flo/Downloads/exp2/2_1_baseline_oneserver_2017-11-10_163538/writeOnly_128vc/1\n",
      "    Repetition 2\n",
      "    Rep directory /home/flo/Downloads/exp2/2_1_baseline_oneserver_2017-11-10_163538/writeOnly_128vc/2\n",
      "    Repetition 3\n",
      "    Rep directory /home/flo/Downloads/exp2/2_1_baseline_oneserver_2017-11-10_163538/writeOnly_128vc/3\n",
      "Processing directory /home/flo/Downloads/exp2/2_1_baseline_oneserver_2017-11-10_163538/writeOnly_8vc\n",
      "    Repetition 1\n",
      "    Rep directory /home/flo/Downloads/exp2/2_1_baseline_oneserver_2017-11-10_163538/writeOnly_8vc/1\n",
      "    Repetition 2\n",
      "    Rep directory /home/flo/Downloads/exp2/2_1_baseline_oneserver_2017-11-10_163538/writeOnly_8vc/2\n",
      "    Repetition 3\n",
      "    Rep directory /home/flo/Downloads/exp2/2_1_baseline_oneserver_2017-11-10_163538/writeOnly_8vc/3\n",
      "Processing directory /home/flo/Downloads/exp2/2_1_baseline_oneserver_2017-11-10_163538/writeOnly_16vc\n",
      "    Repetition 1\n",
      "    Rep directory /home/flo/Downloads/exp2/2_1_baseline_oneserver_2017-11-10_163538/writeOnly_16vc/1\n",
      "    Repetition 2\n",
      "    Rep directory /home/flo/Downloads/exp2/2_1_baseline_oneserver_2017-11-10_163538/writeOnly_16vc/2\n",
      "    Repetition 3\n",
      "    Rep directory /home/flo/Downloads/exp2/2_1_baseline_oneserver_2017-11-10_163538/writeOnly_16vc/3\n",
      "Processing directory /home/flo/Downloads/exp2/2_1_baseline_oneserver_2017-11-10_163538/writeOnly_1vc\n",
      "    Repetition 1\n",
      "    Rep directory /home/flo/Downloads/exp2/2_1_baseline_oneserver_2017-11-10_163538/writeOnly_1vc/1\n",
      "    Repetition 2\n",
      "    Rep directory /home/flo/Downloads/exp2/2_1_baseline_oneserver_2017-11-10_163538/writeOnly_1vc/2\n",
      "    Repetition 3\n",
      "    Rep directory /home/flo/Downloads/exp2/2_1_baseline_oneserver_2017-11-10_163538/writeOnly_1vc/3\n",
      "Input directory is \" /home/flo/Downloads/exp2/2_1_baseline_oneserver_2017-11-10_163538\n",
      "Workload is \" readOnly\n",
      "Processing directory /home/flo/Downloads/exp2/2_1_baseline_oneserver_2017-11-10_163538/readOnly_4vc\n",
      "    Repetition 1\n",
      "    Rep directory /home/flo/Downloads/exp2/2_1_baseline_oneserver_2017-11-10_163538/readOnly_4vc/1\n",
      "    Repetition 2\n",
      "    Rep directory /home/flo/Downloads/exp2/2_1_baseline_oneserver_2017-11-10_163538/readOnly_4vc/2\n",
      "    Repetition 3\n",
      "    Rep directory /home/flo/Downloads/exp2/2_1_baseline_oneserver_2017-11-10_163538/readOnly_4vc/3\n",
      "Processing directory /home/flo/Downloads/exp2/2_1_baseline_oneserver_2017-11-10_163538/readOnly_128vc\n",
      "    Repetition 1\n",
      "    Rep directory /home/flo/Downloads/exp2/2_1_baseline_oneserver_2017-11-10_163538/readOnly_128vc/1\n",
      "    Repetition 2\n",
      "    Rep directory /home/flo/Downloads/exp2/2_1_baseline_oneserver_2017-11-10_163538/readOnly_128vc/2\n",
      "    Repetition 3\n",
      "    Rep directory /home/flo/Downloads/exp2/2_1_baseline_oneserver_2017-11-10_163538/readOnly_128vc/3\n",
      "Processing directory /home/flo/Downloads/exp2/2_1_baseline_oneserver_2017-11-10_163538/readOnly_64vc\n",
      "    Repetition 1\n",
      "    Rep directory /home/flo/Downloads/exp2/2_1_baseline_oneserver_2017-11-10_163538/readOnly_64vc/1\n",
      "    Repetition 2\n",
      "    Rep directory /home/flo/Downloads/exp2/2_1_baseline_oneserver_2017-11-10_163538/readOnly_64vc/2\n",
      "    Repetition 3\n",
      "    Rep directory /home/flo/Downloads/exp2/2_1_baseline_oneserver_2017-11-10_163538/readOnly_64vc/3\n",
      "Processing directory /home/flo/Downloads/exp2/2_1_baseline_oneserver_2017-11-10_163538/readOnly_32vc\n",
      "    Repetition 1\n",
      "    Rep directory /home/flo/Downloads/exp2/2_1_baseline_oneserver_2017-11-10_163538/readOnly_32vc/1\n",
      "    Repetition 2\n",
      "    Rep directory /home/flo/Downloads/exp2/2_1_baseline_oneserver_2017-11-10_163538/readOnly_32vc/2\n",
      "    Repetition 3\n",
      "    Rep directory /home/flo/Downloads/exp2/2_1_baseline_oneserver_2017-11-10_163538/readOnly_32vc/3\n",
      "Processing directory /home/flo/Downloads/exp2/2_1_baseline_oneserver_2017-11-10_163538/readOnly_1vc\n",
      "    Repetition 1\n",
      "    Rep directory /home/flo/Downloads/exp2/2_1_baseline_oneserver_2017-11-10_163538/readOnly_1vc/1\n",
      "    Repetition 2\n",
      "    Rep directory /home/flo/Downloads/exp2/2_1_baseline_oneserver_2017-11-10_163538/readOnly_1vc/2\n",
      "    Repetition 3\n",
      "    Rep directory /home/flo/Downloads/exp2/2_1_baseline_oneserver_2017-11-10_163538/readOnly_1vc/3\n",
      "Processing directory /home/flo/Downloads/exp2/2_1_baseline_oneserver_2017-11-10_163538/readOnly_16vc\n",
      "    Repetition 1\n",
      "    Rep directory /home/flo/Downloads/exp2/2_1_baseline_oneserver_2017-11-10_163538/readOnly_16vc/1\n",
      "    Repetition 2\n",
      "    Rep directory /home/flo/Downloads/exp2/2_1_baseline_oneserver_2017-11-10_163538/readOnly_16vc/2\n",
      "    Repetition 3\n",
      "    Rep directory /home/flo/Downloads/exp2/2_1_baseline_oneserver_2017-11-10_163538/readOnly_16vc/3\n",
      "Processing directory /home/flo/Downloads/exp2/2_1_baseline_oneserver_2017-11-10_163538/readOnly_8vc\n",
      "    Repetition 1\n",
      "    Rep directory /home/flo/Downloads/exp2/2_1_baseline_oneserver_2017-11-10_163538/readOnly_8vc/1\n",
      "    Repetition 2\n",
      "    Rep directory /home/flo/Downloads/exp2/2_1_baseline_oneserver_2017-11-10_163538/readOnly_8vc/2\n",
      "    Repetition 3\n",
      "    Rep directory /home/flo/Downloads/exp2/2_1_baseline_oneserver_2017-11-10_163538/readOnly_8vc/3\n"
     ]
    }
   ],
   "source": [
    "# Extract data\n",
    "inputdir=\"/home/flo/Downloads/exp2/2_1_baseline_oneserver_2017-11-10_163538\"\n",
    "all_reps_extracted = gather_averages(inputdir)\n",
    "all_reps=averages.reset_index()"
   ]
  },
  {
   "cell_type": "code",
   "execution_count": 12,
   "metadata": {},
   "outputs": [],
   "source": [
    "# Group by and calculate AVG and MEAN\n",
    "averages = all_reps.groupby(['num_clients', 'workload'], as_index=True).agg(\n",
    "                      {'sum_throughput':['mean','std'],'avg_responsetime':['mean','std']})"
   ]
  },
  {
   "cell_type": "code",
   "execution_count": 84,
   "metadata": {},
   "outputs": [
    {
     "data": {
      "image/png": "[encoded data removed]",
      "text/plain": [
       "<matplotlib.figure.Figure at 0x7f144e035c50>"
      ]
     },
     "metadata": {},
     "output_type": "display_data"
    }
   ],
   "source": [
    "avg = averages.reset_index()\n",
    "avg\n",
    "avg\n",
    "fig, ax = plt.subplots()\n",
    "ax.set_ylim([0,70000])\n",
    "ax.set_xlim([0, 270])\n",
    "for key, grp in avg.groupby(['workload']):\n",
    "    ax.errorbar(grp['num_clients'], grp[('sum_throughput', 'mean')], yerr=2*grp[('sum_throughput', 'std')], label=key,  marker='o', capsize=3)\n",
    "ax.legend(loc=\"lower right\")\n",
    "ax.set_title(\"Experiment 2.1: 1 Memtier -> 1 Memcached\\nThroughput vs. Number of clients\")\n",
    "ax.set_xlabel(\"Number of clients\")\n",
    "ax.set_ylabel(\"Throughput (ops/sec)\")\n",
    "plt.show()"
   ]
  },
  {
   "cell_type": "code",
   "execution_count": 34,
   "metadata": {},
   "outputs": [
    {
     "data": {
      "text/plain": [
       "<pandas.core.groupby.SeriesGroupBy object at 0x7f144e55b2e8>"
      ]
     },
     "execution_count": 34,
     "metadata": {},
     "output_type": "execute_result"
    }
   ],
   "source": [
    "grp['workload']"
   ]
  },
  {
   "cell_type": "code",
   "execution_count": null,
   "metadata": {},
   "outputs": [],
   "source": [
    "### Number of clients vs throughput\n",
    "rep1_avg = xput_data.query('rep == 2')\n",
    "x = rep1_avg.query('workload == \"readOnly\"')['num_clients']\n",
    "y1 = rep1_avg.query('workload == \"readOnly\"')['sum_throughput']\n",
    "y2 = rep1_avg.query('workload == \"writeOnly\"')['sum_throughput']\n",
    "fig, ax = plt.subplots()\n",
    "ax.set_ylim([0,70000])\n",
    "ax.set_xlim([0, 270])\n",
    "ax.plot(xaxis, y1, label='read-only', marker='o')\n",
    "ax.plot(xaxis, y2, label='write-only', marker='o')\n",
    "plt.xticks(xaxis)\n",
    "\n",
    "error = 0.1 + 70 * x\n",
    "lower_error = 0.4 * error\n",
    "upper_error = error\n",
    "asymmetric_error = [lower_error, upper_error]\n",
    "\n",
    "ax.errorbar(x, y1, yerr=asymmetric_error, fmt='o')\n",
    "\n",
    "ax.legend(loc=\"lower right\")\n",
    "ax.set_title(\"Experiment 2.1: 1 Memtier -> 1 Memcached\\nThroughput vs. Number of clients\")\n",
    "ax.set_xlabel(\"Number of clients\")\n",
    "ax.set_ylabel(\"Throughput (ops/sec)\")\n",
    "plt.show()"
   ]
  }
 ],
 "metadata": {
  "kernelspec": {
   "display_name": "Python 3",
   "language": "python",
   "name": "python3"
  },
  "language_info": {
   "codemirror_mode": {
    "name": "ipython",
    "version": 3
   },
   "file_extension": ".py",
   "mimetype": "text/x-python",
   "name": "python",
   "nbconvert_exporter": "python",
   "pygments_lexer": "ipython3",
   "version": "3.6.3"
  }
 },
 "nbformat": 4,
 "nbformat_minor": 2
}
