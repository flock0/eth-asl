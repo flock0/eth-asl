{
 "cells": [
  {
   "cell_type": "code",
   "execution_count": null,
   "metadata": {
    "collapsed": true
   },
   "outputs": [],
   "source": [
    "from cycler import cycler\n",
    "from gather_averages_2_2 import gather_averages\n",
    "import matplotlib.pyplot as plt"
   ]
  },
  {
   "cell_type": "code",
   "execution_count": null,
   "metadata": {},
   "outputs": [],
   "source": [
    "# Extract data\n",
    "inputdir=\"/home/flo/Downloads/exp2/2_2_baseline_twoservers_2017-11-16_091826\"\n",
    "all_reps_extracted = gather_averages(inputdir)\n",
    "all_reps=all_reps_extracted.reset_index()"
   ]
  },
  {
   "cell_type": "code",
   "execution_count": null,
   "metadata": {
    "collapsed": true
   },
   "outputs": [],
   "source": [
    "# Group by and calculate AVG and MEAN\n",
    "averages = all_reps.groupby(['num_clients', 'workload'], as_index=True).agg(\n",
    "                      {'sum_throughput':['mean','std'],'avg_responsetime':['mean','std']})\n",
    "avg = averages.reset_index()"
   ]
  },
  {
   "cell_type": "code",
   "execution_count": null,
   "metadata": {
    "scrolled": true
   },
   "outputs": [],
   "source": [
    "# 2.1 Throughput graph\n",
    "fig, ax = plt.subplots()\n",
    "#ax.set_ylim([0,30000])\n",
    "#ax.set_xlim([0, 100])\n",
    "ax.set_prop_cycle(cycler('color',['#af8dc3', '#7fbf7b']))\n",
    "for key, grp in avg.groupby(['workload']):\n",
    "    ax.errorbar(grp['num_clients'], grp[('sum_throughput', 'mean')], yerr=2*grp[('sum_throughput', 'std')], label=key,  marker='o', capsize=3)\n",
    "    plt.xticks(grp['num_clients'])\n",
    "ax.legend(loc=\"lower right\")\n",
    "ax.set_title(\"Experiment 2.2: 1 Memtier -> 2 Memcached\\nThroughput vs. Number of clients\")\n",
    "ax.set_xlabel(\"Number of clients\")\n",
    "ax.set_ylabel(\"Throughput (ops/sec)\")\n",
    "\n",
    "plt.show()\n",
    "fig.savefig('exp2_2_throughput.png', dpi=300)"
   ]
  },
  {
   "cell_type": "code",
   "execution_count": null,
   "metadata": {},
   "outputs": [],
   "source": [
    "# 2.1 Responsetime graph\n",
    "fig, ax = plt.subplots()\n",
    "ax.set_ylim([0,20])\n",
    "ax.set_xlim([0, 800])\n",
    "ax.set_prop_cycle(cycler('color',['#af8dc3', '#7fbf7b']))\n",
    "for key, grp in avg.groupby(['workload']):\n",
    "    ax.errorbar(grp['num_clients'], grp[('avg_responsetime', 'mean')], yerr=2*grp[('avg_responsetime', 'std')], label=key,  marker='o', capsize=3)\n",
    "    plt.xticks(grp['num_clients'])\n",
    "ax.legend(loc=\"lower right\")\n",
    "ax.set_title(\"Experiment 2.2: 1 Memtier -> 2 Memcached\\nResponse Time vs. Number of clients\")\n",
    "ax.set_xlabel(\"Number of clients\")\n",
    "ax.set_ylabel(\"Response Time (msec)\")\n",
    "plt.show()\n",
    "fig.savefig('exp2_2_responsetime.png', dpi=300)"
   ]
  }
 ],
 "metadata": {
  "kernelspec": {
   "display_name": "Python 3",
   "language": "python",
   "name": "python3"
  },
  "language_info": {
   "codemirror_mode": {
    "name": "ipython",
    "version": 3
   },
   "file_extension": ".py",
   "mimetype": "text/x-python",
   "name": "python",
   "nbconvert_exporter": "python",
   "pygments_lexer": "ipython3",
   "version": "3.6.3"
  }
 },
 "nbformat": 4,
 "nbformat_minor": 2
}
