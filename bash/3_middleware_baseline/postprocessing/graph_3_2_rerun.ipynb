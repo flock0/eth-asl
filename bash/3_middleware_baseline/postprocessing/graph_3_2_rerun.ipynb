{
 "cells": [
  {
   "cell_type": "code",
   "execution_count": 1,
   "metadata": {},
   "outputs": [],
   "source": [
    "import graph_xputresp_vs_vc as xput_vs_vc\n",
    "import graph_xput_vs_time as xput_vs_time\n",
    "import graph_responsetime as resptime\n",
    "import graph_queuelength as queuelen\n",
    "import max_xput_finder\n",
    "import matplotlib.pyplot as plt\n",
    "import os, sys"
   ]
  },
  {
   "cell_type": "code",
   "execution_count": 2,
   "metadata": {
    "collapsed": true
   },
   "outputs": [],
   "source": [
    "exp3_2_rerun = \"/home/flo/Documents/eth-asl-final-experiment-data/exp3/3_2_rerun_twomt_2017-11-27_213817\""
   ]
  },
  {
   "cell_type": "code",
   "execution_count": null,
   "metadata": {
    "collapsed": true
   },
   "outputs": [],
   "source": [
    "# Experiment 3.2: One Middleware\n",
    "# Plot the throughput and response time measured in the middleware\n",
    "\n",
    "inputdir = exp3_2_rerun\n",
    "experiment_label = \"exp3_2_2\"\n",
    "\n",
    "middlewares = [\"middleware_04\", \"middleware_05\"]\n",
    "client_logfiles = [\"client_01_0.log\", \"client_01_1.log\", \"client_02_0.log\", \"client_02_1.log\"]\n",
    "dir_suffix_regex_string = \"_\\d*vc\\d*workers\"\n",
    "warmup_period_endtime = 10\n",
    "cooldown_period_starttime = 72\n",
    "outdir = \"./graphs\"\n",
    "num_threads = 4\n",
    "ylim_xput = 40000\n",
    "ylim_resp = 60\n",
    "xlim = 700\n",
    "xput_vs_vc.create_workload_graphs(inputdir, experiment_label, \"writeOnly\", middlewares, client_logfiles, dir_suffix_regex_string, warmup_period_endtime, cooldown_period_starttime, outdir, num_threads, ylim_xput, ylim_resp, xlim)\n",
    "xput_vs_vc.create_workload_graphs(inputdir, experiment_label, \"readOnly\", middlewares, client_logfiles, dir_suffix_regex_string, warmup_period_endtime, cooldown_period_starttime, outdir, num_threads, ylim_xput, ylim_resp, xlim)"
   ]
  },
  {
   "cell_type": "code",
   "execution_count": null,
   "metadata": {
    "collapsed": true
   },
   "outputs": [],
   "source": [
    "### Summary: Finding maximum throughput configuration\n",
    "# Maximum throughput for one middleware\n",
    "\n",
    "inputdir = exp3_2_inputdir\n",
    "worker_configs = [8, 16, 32, 64] # Provide worker configurations used\n",
    "vc_configs = [1, 8, 16, 32, 64, 96, 128, 160] # Provide vc configurations used\n",
    "reps = [1, 2, 3]\n",
    "middlewares = [\"middleware_04\", \"middleware_05\"]\n",
    "client_logfiles = [\"client_01_0.log\", \"client_01_1.log\", \"client_02_0.log\", \"client_02_1.log\"]\n",
    "warmup_period_endtime = 10\n",
    "cooldown_period_starttime = 72\n",
    "max_xput_finder.find_max_throughput(inputdir, \"writeOnly\", worker_configs, vc_configs, reps, middlewares, client_logfiles, warmup_period_endtime, cooldown_period_starttime)\n",
    "max_xput_finder.find_max_throughput(inputdir, \"readOnly\", worker_configs, vc_configs, reps, middlewares, client_logfiles, warmup_period_endtime, cooldown_period_starttime)"
   ]
  },
  {
   "cell_type": "code",
   "execution_count": null,
   "metadata": {
    "scrolled": true
   },
   "outputs": [],
   "source": [
    "## Drawing the response time break-down of a a few interesting configurations of readOnly workload\n",
    "inputdir = exp3_2_rerun\n",
    "worker_configs = [8, 16, 32, 64] # Provide worker configurations used\n",
    "vc_configs = [1, 8, 16, 32, 64, 96, 128, 160] # Provide vc configurations used\n",
    "reps = [1, 2, 3]\n",
    "middlewares = [\"middleware_04\", \"middleware_05\"]\n",
    "client_logfiles = [\"client_01_0.log\", \"client_01_1.log\", \"client_02_0.log\", \"client_02_1.log\"]\n",
    "warmup_period_endtime = 10\n",
    "cooldown_period_starttime = 72\n",
    "ping_logfile = \"client_ping_01.log\"\n",
    "outdir = \"./graphs\"\n",
    "experiment_label = \"exp3_2_2\"\n",
    "xlim=12.5\n",
    "num_threads=4\n",
    "\n",
    "fig, axes = plt.subplots(1,4, sharey=True, figsize=(15, 4))\n",
    "resptime.graph_responsetime(8, 8, num_threads, \"readOnly\", middlewares, client_logfiles, reps, inputdir, xlim, axes[0])\n",
    "resptime.graph_responsetime(32, 8, num_threads, \"readOnly\", middlewares, client_logfiles, reps, inputdir, xlim, axes[1])\n",
    "\n",
    "resptime.graph_responsetime(8, 16, num_threads, \"readOnly\", middlewares, client_logfiles, reps, inputdir, xlim, axes[2])\n",
    "resptime.graph_responsetime(32, 16, num_threads, \"readOnly\", middlewares, client_logfiles, reps, inputdir, xlim, axes[3])\n",
    "fig.tight_layout()\n",
    "plt.show()\n",
    "\n",
    "fig.savefig(os.path.join(outdir, experiment_label, \"responseTimeBreakDown_readOnly.png\"), dpi=300)"
   ]
  },
  {
   "cell_type": "code",
   "execution_count": null,
   "metadata": {},
   "outputs": [],
   "source": [
    "## Drawing the response time break-down of a a few interesting configurations of writeOnly workload\n",
    "inputdir = exp3_2_rerun\n",
    "worker_configs = [8, 16, 32, 64] # Provide worker configurations used\n",
    "vc_configs = [1, 8, 16, 32, 64, 96, 128, 160] # Provide vc configurations used\n",
    "reps = [1, 2, 3]\n",
    "middlewares = [\"middleware_04\", \"middleware_05\"]\n",
    "client_logfiles = [\"client_01_0.log\", \"client_01_1.log\", \"client_02_0.log\", \"client_02_1.log\"]\n",
    "warmup_period_endtime = 10\n",
    "cooldown_period_starttime = 72\n",
    "ping_logfile = \"client_ping_01.log\"\n",
    "outdir = \"./graphs\"\n",
    "experiment_label = \"exp3_2_2\"\n",
    "xlim=12.5\n",
    "num_threads=4\n",
    "\n",
    "fig, axes = plt.subplots(1,4, sharey=True, figsize=(15, 4))\n",
    "resptime.graph_responsetime(8, 32, num_threads, \"writeOnly\", middlewares, client_logfiles, reps, inputdir, xlim, axes[0])\n",
    "resptime.graph_responsetime(16, 32, num_threads, \"writeOnly\", middlewares, client_logfiles, reps, inputdir, xlim, axes[1])\n",
    "\n",
    "resptime.graph_responsetime(32, 32, num_threads, \"writeOnly\", middlewares, client_logfiles, reps, inputdir, xlim, axes[2])\n",
    "resptime.graph_responsetime(64, 32, num_threads, \"writeOnly\", middlewares, client_logfiles, reps, inputdir, xlim, axes[3])\n",
    "fig.tight_layout()\n",
    "plt.show()\n",
    "\n",
    "fig.savefig(os.path.join(outdir, experiment_label, \"responseTimeBreakDown_writeOnly.png\"), dpi=300)"
   ]
  },
  {
   "cell_type": "code",
   "execution_count": 3,
   "metadata": {},
   "outputs": [
    {
     "name": "stdout",
     "output_type": "stream",
     "text": [
      "Concatenating requestlogs in /home/flo/Documents/eth-asl-final-experiment-data/exp3/3_2_rerun_twomt_2017-11-27_213817/writeOnly_16vc8workers/1/middleware_04/2017-11-27 215243\n",
      "Concatenating requestlogs in /home/flo/Documents/eth-asl-final-experiment-data/exp3/3_2_rerun_twomt_2017-11-27_213817/writeOnly_16vc8workers/1/middleware_05/2017-11-27 215244\n",
      "Concatenating requestlogs in /home/flo/Documents/eth-asl-final-experiment-data/exp3/3_2_rerun_twomt_2017-11-27_213817/writeOnly_16vc8workers/2/middleware_04/2017-11-27 224733\n",
      "Concatenating requestlogs in /home/flo/Documents/eth-asl-final-experiment-data/exp3/3_2_rerun_twomt_2017-11-27_213817/writeOnly_16vc8workers/2/middleware_05/2017-11-27 224733\n",
      "Concatenating requestlogs in /home/flo/Documents/eth-asl-final-experiment-data/exp3/3_2_rerun_twomt_2017-11-27_213817/writeOnly_16vc8workers/3/middleware_04/2017-11-27 234216\n",
      "Concatenating requestlogs in /home/flo/Documents/eth-asl-final-experiment-data/exp3/3_2_rerun_twomt_2017-11-27_213817/writeOnly_16vc8workers/3/middleware_05/2017-11-27 234217\n",
      "Concatenating requestlogs in /home/flo/Documents/eth-asl-final-experiment-data/exp3/3_2_rerun_twomt_2017-11-27_213817/writeOnly_16vc16workers/1/middleware_04/2017-11-27 215426\n",
      "Concatenating requestlogs in /home/flo/Documents/eth-asl-final-experiment-data/exp3/3_2_rerun_twomt_2017-11-27_213817/writeOnly_16vc16workers/1/middleware_05/2017-11-27 215426\n",
      "Concatenating requestlogs in /home/flo/Documents/eth-asl-final-experiment-data/exp3/3_2_rerun_twomt_2017-11-27_213817/writeOnly_16vc16workers/2/middleware_04/2017-11-27 224916\n",
      "Concatenating requestlogs in /home/flo/Documents/eth-asl-final-experiment-data/exp3/3_2_rerun_twomt_2017-11-27_213817/writeOnly_16vc16workers/2/middleware_05/2017-11-27 224916\n",
      "Concatenating requestlogs in /home/flo/Documents/eth-asl-final-experiment-data/exp3/3_2_rerun_twomt_2017-11-27_213817/writeOnly_16vc16workers/3/middleware_04/2017-11-27 234359\n",
      "Concatenating requestlogs in /home/flo/Documents/eth-asl-final-experiment-data/exp3/3_2_rerun_twomt_2017-11-27_213817/writeOnly_16vc16workers/3/middleware_05/2017-11-27 234359\n",
      "Concatenating requestlogs in /home/flo/Documents/eth-asl-final-experiment-data/exp3/3_2_rerun_twomt_2017-11-27_213817/writeOnly_16vc32workers/1/middleware_04/2017-11-27 215608\n",
      "Concatenating requestlogs in /home/flo/Documents/eth-asl-final-experiment-data/exp3/3_2_rerun_twomt_2017-11-27_213817/writeOnly_16vc32workers/1/middleware_05/2017-11-27 215609\n",
      "Concatenating requestlogs in /home/flo/Documents/eth-asl-final-experiment-data/exp3/3_2_rerun_twomt_2017-11-27_213817/writeOnly_16vc32workers/2/middleware_04/2017-11-27 225058\n",
      "Concatenating requestlogs in /home/flo/Documents/eth-asl-final-experiment-data/exp3/3_2_rerun_twomt_2017-11-27_213817/writeOnly_16vc32workers/2/middleware_05/2017-11-27 225059\n",
      "Concatenating requestlogs in /home/flo/Documents/eth-asl-final-experiment-data/exp3/3_2_rerun_twomt_2017-11-27_213817/writeOnly_16vc32workers/3/middleware_04/2017-11-27 234542\n",
      "Concatenating requestlogs in /home/flo/Documents/eth-asl-final-experiment-data/exp3/3_2_rerun_twomt_2017-11-27_213817/writeOnly_16vc32workers/3/middleware_05/2017-11-27 234542\n",
      "Concatenating requestlogs in /home/flo/Documents/eth-asl-final-experiment-data/exp3/3_2_rerun_twomt_2017-11-27_213817/writeOnly_16vc64workers/1/middleware_04/2017-11-27 215751\n",
      "Concatenating requestlogs in /home/flo/Documents/eth-asl-final-experiment-data/exp3/3_2_rerun_twomt_2017-11-27_213817/writeOnly_16vc64workers/1/middleware_05/2017-11-27 215752\n",
      "Concatenating requestlogs in /home/flo/Documents/eth-asl-final-experiment-data/exp3/3_2_rerun_twomt_2017-11-27_213817/writeOnly_16vc64workers/2/middleware_04/2017-11-27 225241\n",
      "Concatenating requestlogs in /home/flo/Documents/eth-asl-final-experiment-data/exp3/3_2_rerun_twomt_2017-11-27_213817/writeOnly_16vc64workers/2/middleware_05/2017-11-27 225241\n",
      "Concatenating requestlogs in /home/flo/Documents/eth-asl-final-experiment-data/exp3/3_2_rerun_twomt_2017-11-27_213817/writeOnly_16vc64workers/3/middleware_04/2017-11-27 234724\n",
      "Concatenating requestlogs in /home/flo/Documents/eth-asl-final-experiment-data/exp3/3_2_rerun_twomt_2017-11-27_213817/writeOnly_16vc64workers/3/middleware_05/2017-11-27 234725\n",
      "Concatenating requestlogs in /home/flo/Documents/eth-asl-final-experiment-data/exp3/3_2_rerun_twomt_2017-11-27_213817/writeOnly_32vc8workers/1/middleware_04/2017-11-27 215934\n",
      "Concatenating requestlogs in /home/flo/Documents/eth-asl-final-experiment-data/exp3/3_2_rerun_twomt_2017-11-27_213817/writeOnly_32vc8workers/1/middleware_05/2017-11-27 215935\n",
      "Concatenating requestlogs in /home/flo/Documents/eth-asl-final-experiment-data/exp3/3_2_rerun_twomt_2017-11-27_213817/writeOnly_32vc8workers/2/middleware_04/2017-11-27 225424\n",
      "Concatenating requestlogs in /home/flo/Documents/eth-asl-final-experiment-data/exp3/3_2_rerun_twomt_2017-11-27_213817/writeOnly_32vc8workers/2/middleware_05/2017-11-27 225424\n",
      "Concatenating requestlogs in /home/flo/Documents/eth-asl-final-experiment-data/exp3/3_2_rerun_twomt_2017-11-27_213817/writeOnly_32vc8workers/3/middleware_04/2017-11-27 234907\n",
      "Concatenating requestlogs in /home/flo/Documents/eth-asl-final-experiment-data/exp3/3_2_rerun_twomt_2017-11-27_213817/writeOnly_32vc8workers/3/middleware_05/2017-11-27 234907\n",
      "Concatenating requestlogs in /home/flo/Documents/eth-asl-final-experiment-data/exp3/3_2_rerun_twomt_2017-11-27_213817/writeOnly_32vc16workers/1/middleware_04/2017-11-27 220117\n",
      "Concatenating requestlogs in /home/flo/Documents/eth-asl-final-experiment-data/exp3/3_2_rerun_twomt_2017-11-27_213817/writeOnly_32vc16workers/1/middleware_05/2017-11-27 220117\n",
      "Concatenating requestlogs in /home/flo/Documents/eth-asl-final-experiment-data/exp3/3_2_rerun_twomt_2017-11-27_213817/writeOnly_32vc16workers/2/middleware_04/2017-11-27 225606\n",
      "Concatenating requestlogs in /home/flo/Documents/eth-asl-final-experiment-data/exp3/3_2_rerun_twomt_2017-11-27_213817/writeOnly_32vc16workers/2/middleware_05/2017-11-27 225607\n",
      "Concatenating requestlogs in /home/flo/Documents/eth-asl-final-experiment-data/exp3/3_2_rerun_twomt_2017-11-27_213817/writeOnly_32vc16workers/3/middleware_04/2017-11-27 235050\n",
      "Concatenating requestlogs in /home/flo/Documents/eth-asl-final-experiment-data/exp3/3_2_rerun_twomt_2017-11-27_213817/writeOnly_32vc16workers/3/middleware_05/2017-11-27 235050\n",
      "Concatenating requestlogs in /home/flo/Documents/eth-asl-final-experiment-data/exp3/3_2_rerun_twomt_2017-11-27_213817/writeOnly_32vc32workers/1/middleware_04/2017-11-27 220259\n",
      "Concatenating requestlogs in /home/flo/Documents/eth-asl-final-experiment-data/exp3/3_2_rerun_twomt_2017-11-27_213817/writeOnly_32vc32workers/1/middleware_05/2017-11-27 220300\n",
      "Concatenating requestlogs in /home/flo/Documents/eth-asl-final-experiment-data/exp3/3_2_rerun_twomt_2017-11-27_213817/writeOnly_32vc32workers/2/middleware_04/2017-11-27 225749\n",
      "Concatenating requestlogs in /home/flo/Documents/eth-asl-final-experiment-data/exp3/3_2_rerun_twomt_2017-11-27_213817/writeOnly_32vc32workers/2/middleware_05/2017-11-27 225749\n",
      "Concatenating requestlogs in /home/flo/Documents/eth-asl-final-experiment-data/exp3/3_2_rerun_twomt_2017-11-27_213817/writeOnly_32vc32workers/3/middleware_04/2017-11-27 235232\n",
      "Concatenating requestlogs in /home/flo/Documents/eth-asl-final-experiment-data/exp3/3_2_rerun_twomt_2017-11-27_213817/writeOnly_32vc32workers/3/middleware_05/2017-11-27 235233\n",
      "Concatenating requestlogs in /home/flo/Documents/eth-asl-final-experiment-data/exp3/3_2_rerun_twomt_2017-11-27_213817/writeOnly_32vc64workers/1/middleware_04/2017-11-27 220442\n",
      "Concatenating requestlogs in /home/flo/Documents/eth-asl-final-experiment-data/exp3/3_2_rerun_twomt_2017-11-27_213817/writeOnly_32vc64workers/1/middleware_05/2017-11-27 220443\n",
      "Concatenating requestlogs in /home/flo/Documents/eth-asl-final-experiment-data/exp3/3_2_rerun_twomt_2017-11-27_213817/writeOnly_32vc64workers/2/middleware_04/2017-11-27 225932\n",
      "Concatenating requestlogs in /home/flo/Documents/eth-asl-final-experiment-data/exp3/3_2_rerun_twomt_2017-11-27_213817/writeOnly_32vc64workers/2/middleware_05/2017-11-27 225932\n",
      "Concatenating requestlogs in /home/flo/Documents/eth-asl-final-experiment-data/exp3/3_2_rerun_twomt_2017-11-27_213817/writeOnly_32vc64workers/3/middleware_04/2017-11-27 235415\n"
     ]
    },
    {
     "name": "stdout",
     "output_type": "stream",
     "text": [
      "Concatenating requestlogs in /home/flo/Documents/eth-asl-final-experiment-data/exp3/3_2_rerun_twomt_2017-11-27_213817/writeOnly_32vc64workers/3/middleware_05/2017-11-27 235415\n",
      "Concatenating requestlogs in /home/flo/Documents/eth-asl-final-experiment-data/exp3/3_2_rerun_twomt_2017-11-27_213817/writeOnly_64vc8workers/1/middleware_04/2017-11-27 220626\n",
      "Concatenating requestlogs in /home/flo/Documents/eth-asl-final-experiment-data/exp3/3_2_rerun_twomt_2017-11-27_213817/writeOnly_64vc8workers/1/middleware_05/2017-11-27 220626\n",
      "Concatenating requestlogs in /home/flo/Documents/eth-asl-final-experiment-data/exp3/3_2_rerun_twomt_2017-11-27_213817/writeOnly_64vc8workers/2/middleware_04/2017-11-27 230115\n",
      "Concatenating requestlogs in /home/flo/Documents/eth-asl-final-experiment-data/exp3/3_2_rerun_twomt_2017-11-27_213817/writeOnly_64vc8workers/2/middleware_05/2017-11-27 230115\n",
      "Concatenating requestlogs in /home/flo/Documents/eth-asl-final-experiment-data/exp3/3_2_rerun_twomt_2017-11-27_213817/writeOnly_64vc8workers/3/middleware_04/2017-11-27 235558\n",
      "Concatenating requestlogs in /home/flo/Documents/eth-asl-final-experiment-data/exp3/3_2_rerun_twomt_2017-11-27_213817/writeOnly_64vc8workers/3/middleware_05/2017-11-27 235558\n",
      "Concatenating requestlogs in /home/flo/Documents/eth-asl-final-experiment-data/exp3/3_2_rerun_twomt_2017-11-27_213817/writeOnly_64vc16workers/1/middleware_04/2017-11-27 220808\n",
      "Concatenating requestlogs in /home/flo/Documents/eth-asl-final-experiment-data/exp3/3_2_rerun_twomt_2017-11-27_213817/writeOnly_64vc16workers/1/middleware_05/2017-11-27 220809\n",
      "Concatenating requestlogs in /home/flo/Documents/eth-asl-final-experiment-data/exp3/3_2_rerun_twomt_2017-11-27_213817/writeOnly_64vc16workers/2/middleware_04/2017-11-27 230257\n",
      "Concatenating requestlogs in /home/flo/Documents/eth-asl-final-experiment-data/exp3/3_2_rerun_twomt_2017-11-27_213817/writeOnly_64vc16workers/2/middleware_05/2017-11-27 230258\n",
      "Concatenating requestlogs in /home/flo/Documents/eth-asl-final-experiment-data/exp3/3_2_rerun_twomt_2017-11-27_213817/writeOnly_64vc16workers/3/middleware_04/2017-11-27 235741\n",
      "Concatenating requestlogs in /home/flo/Documents/eth-asl-final-experiment-data/exp3/3_2_rerun_twomt_2017-11-27_213817/writeOnly_64vc16workers/3/middleware_05/2017-11-27 235741\n",
      "Concatenating requestlogs in /home/flo/Documents/eth-asl-final-experiment-data/exp3/3_2_rerun_twomt_2017-11-27_213817/writeOnly_64vc32workers/1/middleware_04/2017-11-27 220951\n",
      "Concatenating requestlogs in /home/flo/Documents/eth-asl-final-experiment-data/exp3/3_2_rerun_twomt_2017-11-27_213817/writeOnly_64vc32workers/1/middleware_05/2017-11-27 220951\n",
      "Concatenating requestlogs in /home/flo/Documents/eth-asl-final-experiment-data/exp3/3_2_rerun_twomt_2017-11-27_213817/writeOnly_64vc32workers/2/middleware_04/2017-11-27 230440\n",
      "Concatenating requestlogs in /home/flo/Documents/eth-asl-final-experiment-data/exp3/3_2_rerun_twomt_2017-11-27_213817/writeOnly_64vc32workers/2/middleware_05/2017-11-27 230440\n",
      "Concatenating requestlogs in /home/flo/Documents/eth-asl-final-experiment-data/exp3/3_2_rerun_twomt_2017-11-27_213817/writeOnly_64vc32workers/3/middleware_04/2017-11-27 235924\n",
      "Concatenating requestlogs in /home/flo/Documents/eth-asl-final-experiment-data/exp3/3_2_rerun_twomt_2017-11-27_213817/writeOnly_64vc32workers/3/middleware_05/2017-11-27 235924\n",
      "Concatenating requestlogs in /home/flo/Documents/eth-asl-final-experiment-data/exp3/3_2_rerun_twomt_2017-11-27_213817/writeOnly_64vc64workers/1/middleware_04/2017-11-27 221134\n",
      "Concatenating requestlogs in /home/flo/Documents/eth-asl-final-experiment-data/exp3/3_2_rerun_twomt_2017-11-27_213817/writeOnly_64vc64workers/1/middleware_05/2017-11-27 221134\n",
      "Concatenating requestlogs in /home/flo/Documents/eth-asl-final-experiment-data/exp3/3_2_rerun_twomt_2017-11-27_213817/writeOnly_64vc64workers/2/middleware_04/2017-11-27 230622\n",
      "Concatenating requestlogs in /home/flo/Documents/eth-asl-final-experiment-data/exp3/3_2_rerun_twomt_2017-11-27_213817/writeOnly_64vc64workers/2/middleware_05/2017-11-27 230623\n",
      "Concatenating requestlogs in /home/flo/Documents/eth-asl-final-experiment-data/exp3/3_2_rerun_twomt_2017-11-27_213817/writeOnly_64vc64workers/3/middleware_04/2017-11-28 000107\n",
      "Concatenating requestlogs in /home/flo/Documents/eth-asl-final-experiment-data/exp3/3_2_rerun_twomt_2017-11-27_213817/writeOnly_64vc64workers/3/middleware_05/2017-11-28 000107\n",
      "Concatenating requestlogs in /home/flo/Documents/eth-asl-final-experiment-data/exp3/3_2_rerun_twomt_2017-11-27_213817/writeOnly_96vc8workers/1/middleware_04/2017-11-27 221318\n",
      "Concatenating requestlogs in /home/flo/Documents/eth-asl-final-experiment-data/exp3/3_2_rerun_twomt_2017-11-27_213817/writeOnly_96vc8workers/1/middleware_05/2017-11-27 221318\n",
      "Concatenating requestlogs in /home/flo/Documents/eth-asl-final-experiment-data/exp3/3_2_rerun_twomt_2017-11-27_213817/writeOnly_96vc8workers/2/middleware_04/2017-11-27 230806\n",
      "Concatenating requestlogs in /home/flo/Documents/eth-asl-final-experiment-data/exp3/3_2_rerun_twomt_2017-11-27_213817/writeOnly_96vc8workers/2/middleware_05/2017-11-27 230806\n",
      "Concatenating requestlogs in /home/flo/Documents/eth-asl-final-experiment-data/exp3/3_2_rerun_twomt_2017-11-27_213817/writeOnly_96vc8workers/3/middleware_04/2017-11-28 000250\n",
      "Concatenating requestlogs in /home/flo/Documents/eth-asl-final-experiment-data/exp3/3_2_rerun_twomt_2017-11-27_213817/writeOnly_96vc8workers/3/middleware_05/2017-11-28 000250\n",
      "Concatenating requestlogs in /home/flo/Documents/eth-asl-final-experiment-data/exp3/3_2_rerun_twomt_2017-11-27_213817/writeOnly_96vc16workers/1/middleware_04/2017-11-27 221500\n",
      "Concatenating requestlogs in /home/flo/Documents/eth-asl-final-experiment-data/exp3/3_2_rerun_twomt_2017-11-27_213817/writeOnly_96vc16workers/1/middleware_05/2017-11-27 221500\n",
      "Concatenating requestlogs in /home/flo/Documents/eth-asl-final-experiment-data/exp3/3_2_rerun_twomt_2017-11-27_213817/writeOnly_96vc16workers/2/middleware_04/2017-11-27 230948\n",
      "Concatenating requestlogs in /home/flo/Documents/eth-asl-final-experiment-data/exp3/3_2_rerun_twomt_2017-11-27_213817/writeOnly_96vc16workers/2/middleware_05/2017-11-27 230948\n",
      "Concatenating requestlogs in /home/flo/Documents/eth-asl-final-experiment-data/exp3/3_2_rerun_twomt_2017-11-27_213817/writeOnly_96vc16workers/3/middleware_04/2017-11-28 000432\n",
      "Concatenating requestlogs in /home/flo/Documents/eth-asl-final-experiment-data/exp3/3_2_rerun_twomt_2017-11-27_213817/writeOnly_96vc16workers/3/middleware_05/2017-11-28 000432\n",
      "Concatenating requestlogs in /home/flo/Documents/eth-asl-final-experiment-data/exp3/3_2_rerun_twomt_2017-11-27_213817/writeOnly_96vc32workers/1/middleware_04/2017-11-27 221643\n",
      "Concatenating requestlogs in /home/flo/Documents/eth-asl-final-experiment-data/exp3/3_2_rerun_twomt_2017-11-27_213817/writeOnly_96vc32workers/1/middleware_05/2017-11-27 221644\n",
      "Concatenating requestlogs in /home/flo/Documents/eth-asl-final-experiment-data/exp3/3_2_rerun_twomt_2017-11-27_213817/writeOnly_96vc32workers/2/middleware_04/2017-11-27 231130\n",
      "Concatenating requestlogs in /home/flo/Documents/eth-asl-final-experiment-data/exp3/3_2_rerun_twomt_2017-11-27_213817/writeOnly_96vc32workers/2/middleware_05/2017-11-27 231131\n",
      "Concatenating requestlogs in /home/flo/Documents/eth-asl-final-experiment-data/exp3/3_2_rerun_twomt_2017-11-27_213817/writeOnly_96vc32workers/3/middleware_04/2017-11-28 000614\n",
      "Concatenating requestlogs in /home/flo/Documents/eth-asl-final-experiment-data/exp3/3_2_rerun_twomt_2017-11-27_213817/writeOnly_96vc32workers/3/middleware_05/2017-11-28 000615\n",
      "Concatenating requestlogs in /home/flo/Documents/eth-asl-final-experiment-data/exp3/3_2_rerun_twomt_2017-11-27_213817/writeOnly_96vc64workers/1/middleware_04/2017-11-27 221826\n",
      "Concatenating requestlogs in /home/flo/Documents/eth-asl-final-experiment-data/exp3/3_2_rerun_twomt_2017-11-27_213817/writeOnly_96vc64workers/1/middleware_05/2017-11-27 221827\n",
      "Concatenating requestlogs in /home/flo/Documents/eth-asl-final-experiment-data/exp3/3_2_rerun_twomt_2017-11-27_213817/writeOnly_96vc64workers/2/middleware_04/2017-11-27 231313\n",
      "Concatenating requestlogs in /home/flo/Documents/eth-asl-final-experiment-data/exp3/3_2_rerun_twomt_2017-11-27_213817/writeOnly_96vc64workers/2/middleware_05/2017-11-27 231314\n"
     ]
    },
    {
     "name": "stdout",
     "output_type": "stream",
     "text": [
      "Concatenating requestlogs in /home/flo/Documents/eth-asl-final-experiment-data/exp3/3_2_rerun_twomt_2017-11-27_213817/writeOnly_96vc64workers/3/middleware_04/2017-11-28 000757\n",
      "Concatenating requestlogs in /home/flo/Documents/eth-asl-final-experiment-data/exp3/3_2_rerun_twomt_2017-11-27_213817/writeOnly_96vc64workers/3/middleware_05/2017-11-28 000757\n"
     ]
    },
    {
     "data": {
      "image/png": "[encoded data removed]",
      "text/plain": [
       "<matplotlib.figure.Figure at 0x7f587fc45c88>"
      ]
     },
     "metadata": {},
     "output_type": "display_data"
    }
   ],
   "source": [
    "inputdir = exp3_2_rerun\n",
    "worker_configs = [8, 16, 32, 64] # Provide worker configurations used\n",
    "vc_configs = [1, 8, 16, 32, 64, 96, 128, 160] # Provide vc configurations used\n",
    "reps = [1, 2, 3]\n",
    "middlewares = [\"middleware_04\", \"middleware_05\"]\n",
    "client_logfiles = [\"client_01_0.log\", \"client_01_1.log\", \"client_02_0.log\", \"client_02_1.log\"]\n",
    "warmup_period_endtime = 10\n",
    "cooldown_period_starttime = 72\n",
    "ping_logfile = \"client_ping_01.log\"\n",
    "outdir = \"./graphs\"\n",
    "experiment_label = \"exp3_2_2\"\n",
    "xlim=12.5\n",
    "num_threads=4\n",
    "\n",
    "fig, axes = plt.subplots(1,4, sharey=True, figsize=(11, 4))\n",
    "queuelen.graph_queuelength([8,16,32,64], 16, 4, \"writeOnly\", [\"middleware_04\", \"middleware_05\"], [1,2,3], \"/home/flo/Documents/eth-asl-final-experiment-data/exp3/3_2_rerun_twomt_2017-11-27_213817\", 200,axes[0])\n",
    "queuelen.graph_queuelength([8,16,32,64], 32, 4, \"writeOnly\", [\"middleware_04\", \"middleware_05\"], [1,2,3], \"/home/flo/Documents/eth-asl-final-experiment-data/exp3/3_2_rerun_twomt_2017-11-27_213817\", 200,axes[1])\n",
    "queuelen.graph_queuelength([8,16,32,64], 64, 4, \"writeOnly\", [\"middleware_04\", \"middleware_05\"], [1,2,3], \"/home/flo/Documents/eth-asl-final-experiment-data/exp3/3_2_rerun_twomt_2017-11-27_213817\", 200,axes[2])\n",
    "queuelen.graph_queuelength([8,16,32,64], 96, 4, \"writeOnly\", [\"middleware_04\", \"middleware_05\"], [1,2,3], \"/home/flo/Documents/eth-asl-final-experiment-data/exp3/3_2_rerun_twomt_2017-11-27_213817\", 200,axes[3])\n",
    "fig.tight_layout()\n",
    "plt.show()\n",
    "\n",
    "fig.savefig(os.path.join(outdir, experiment_label, \"averageQueueLength_writeOnly.png\"), dpi=300)"
   ]
  },
  {
   "cell_type": "code",
   "execution_count": null,
   "metadata": {
    "collapsed": true
   },
   "outputs": [],
   "source": [
    "### Drawing an experiment trace\n",
    "# Throughput from the Middleware and Memtier, as well as the responsetime from both machines\n",
    "\n",
    "inputdir = exp3_2_inputdir\n",
    "worker_configuration = [8,16,32,64]\n",
    "folder_prefix = \"writeOnly_32vc\"\n",
    "middlewares = [\"middleware_04\", \"middleware_05\"]\n",
    "client_logfiles = [\"client_01_0.log\", \"client_01_1.log\"]\n",
    "reps = [1,2,3]\n",
    "outdir = \"./graphs/exp3_2\"\n",
    "\n",
    "f, axes = plt.subplots(2, 2, sharex=True)\n",
    "xput_vs_time.plot_mw_metric_over_time(inputdir, worker_configuration, \"throughput_mw\", folder_prefix, reps, middlewares, axes[0,0])\n",
    "xput_vs_time.plot_mt_metric_over_time(inputdir, worker_configuration, \"throughput\", folder_prefix, reps, client_logfiles, axes[1,0])\n",
    "xput_vs_time.plot_mw_metric_over_time(inputdir, worker_configuration, \"responseTime_ms\", folder_prefix, reps, middlewares, axes[0,1])\n",
    "xput_vs_time.plot_mt_metric_over_time(inputdir, worker_configuration, \"responsetime\", folder_prefix, reps, client_logfiles, axes[1,1])\n",
    "plt.show()\n",
    "f.savefig(os.path.join(outdir, '{}_experiment_trace.png'.format(folder_prefix)),dpi=600)"
   ]
  }
 ],
 "metadata": {
  "kernelspec": {
   "display_name": "Python 3",
   "language": "python",
   "name": "python3"
  },
  "language_info": {
   "codemirror_mode": {
    "name": "ipython",
    "version": 3
   },
   "file_extension": ".py",
   "mimetype": "text/x-python",
   "name": "python",
   "nbconvert_exporter": "python",
   "pygments_lexer": "ipython3",
   "version": "3.6.3"
  }
 },
 "nbformat": 4,
 "nbformat_minor": 2
}
