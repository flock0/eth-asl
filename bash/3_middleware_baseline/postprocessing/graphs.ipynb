{
 "cells": [
  {
   "cell_type": "code",
   "execution_count": null,
   "metadata": {
    "collapsed": true
   },
   "outputs": [],
   "source": [
    "import graph_xputresp_vs_vc as xput_vs_vc\n",
    "import max_xput_finder"
   ]
  },
  {
   "cell_type": "code",
   "execution_count": null,
   "metadata": {
    "collapsed": true
   },
   "outputs": [],
   "source": [
    "# Experiment 3.1: One Middleware\n",
    "# Plot the throughput and response time measured in the middleware\n",
    "\n",
    "inputdir = \"\" # Provide path to exp 3_1 data directory\n",
    "experiment_label = \"exp3_1\"\n",
    "\n",
    "middlewares = [\"middleware_04\"]\n",
    "client_logfiles = [\"client_01.log\"]\n",
    "dir_suffix_regex_string = \"_\\d*vc\\d*workers\"\n",
    "warmup_period_endtime = 10\n",
    "cooldown_period_starttime = 72\n",
    "outdir = \"./graphs\"\n",
    "num_threads = 2\n",
    "\n",
    "xput_vs_vc.create_workload_graphs(inputdir, experiment_label, \"writeOnly\", middlewares, client_logfiles, dir_suffix_regex_string, warmup_period_endtime, cooldown_period_starttime, outdir, num_threads)\n",
    "xput_vs_vc.create_workload_graphs(inputdir, experiment_label, \"readOnly\", middlewares, client_logfiles, dir_suffix_regex_string, warmup_period_endtime, cooldown_period_starttime, outdir, num_threads)"
   ]
  },
  {
   "cell_type": "code",
   "execution_count": null,
   "metadata": {
    "collapsed": true
   },
   "outputs": [],
   "source": [
    "# Experiment 3.1: One Middleware\n",
    "# Plot the throughput and response time measured in the middleware\n",
    "\n",
    "inputdir = \"\" # Provide path to exp 3_2 data directory\n",
    "experiment_label = \"exp3_2\"\n",
    "\n",
    "middlewares = [\"middleware_04\", \"middleware_05\"]\n",
    "client_logfiles = [\"client_01_0.log\", \"client_01_1.log\"]\n",
    "dir_suffix_regex_string = \"_\\d*vc\\d*workers\"\n",
    "warmup_period_endtime = 10\n",
    "cooldown_period_starttime = 72\n",
    "outdir = \"./graphs\"\n",
    "num_threads = 2\n",
    "xput_vs_vc.create_workload_graphs(inputdir, experiment_label, \"writeOnly\", middlewares, client_logfiles, dir_suffix_regex_string, warmup_period_endtime, cooldown_period_starttime, outdir, num_threads)\n",
    "xput_vs_vc.create_workload_graphs(inputdir, experiment_label, \"readOnly\", middlewares, client_logfiles, dir_suffix_regex_string, warmup_period_endtime, cooldown_period_starttime, outdir, num_threads)"
   ]
  },
  {
   "cell_type": "code",
   "execution_count": null,
   "metadata": {
    "collapsed": true
   },
   "outputs": [],
   "source": [
    "### Summary: Finding maximum throughput configuration\n",
    "# Maximum throughput for one middleware\n",
    "\n",
    "inputdir = \"\" # Provide path to exp 3_1 data directory\n",
    "worker_configs = [8, 16, 32, 64] # Provide worker configurations used\n",
    "vc_configs = [1, 4, 8, 16, 24, 32, 48, 64] # Provide vc configurations used\n",
    "reps = [1, 2, 3]\n",
    "middlewares = [\"middleware_04\"]\n",
    "client_logfiles = [\"client_01.log\"]\n",
    "warmup_period_endtime = 10\n",
    "cooldown_period_starttime = 72\n",
    "max_xput_finder.find_max_throughput(inputdir, \"writeOnly\", worker_configs, vc_configs, reps, middlewares, client_logfiles, warmup_period_endtime, cooldown_period_starttime)\n",
    "max_xput_finder.find_max_throughput(inputdir, \"readOnly\", worker_configs, vc_configs, reps, middlewares, client_logfiles, warmup_period_endtime, cooldown_period_starttime)"
   ]
  },
  {
   "cell_type": "code",
   "execution_count": null,
   "metadata": {
    "collapsed": true
   },
   "outputs": [],
   "source": [
    "### Summary: Finding maximum throughput configuration\n",
    "# Maximum throughput for one middleware\n",
    "\n",
    "inputdir = \"\" # Provide path to exp 3_2 data directory\n",
    "worker_configs = [8, 16, 32, 64] # Provide worker configurations used\n",
    "vc_configs = [1, 4, 8, 16, 24, 32, 48, 64] # Provide vc configurations used\n",
    "reps = [1, 2, 3]\n",
    "middlewares = [\"middleware_04\", \"middleware_05\"]\n",
    "client_logfiles = [\"client_01_0.log\", \"client_01_1.log\"]\n",
    "warmup_period_endtime = 10\n",
    "cooldown_period_starttime = 72\n",
    "max_xput_finder.find_max_throughput(inputdir, \"writeOnly\", worker_configs, vc_configs, reps, middlewares, client_logfiles, warmup_period_endtime, cooldown_period_starttime)\n",
    "max_xput_finder.find_max_throughput(inputdir, \"readOnly\", worker_configs, vc_configs, reps, middlewares, client_logfiles, warmup_period_endtime, cooldown_period_starttime)"
   ]
  }
 ],
 "metadata": {
  "kernelspec": {
   "display_name": "Python 3",
   "language": "python",
   "name": "python3"
  },
  "language_info": {
   "codemirror_mode": {
    "name": "ipython",
    "version": 3
   },
   "file_extension": ".py",
   "mimetype": "text/x-python",
   "name": "python",
   "nbconvert_exporter": "python",
   "pygments_lexer": "ipython3",
   "version": "3.6.3"
  }
 },
 "nbformat": 4,
 "nbformat_minor": 2
}
