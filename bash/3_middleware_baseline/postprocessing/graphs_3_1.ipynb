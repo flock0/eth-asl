{
 "cells": [
  {
   "cell_type": "code",
   "execution_count": null,
   "metadata": {
    "collapsed": true
   },
   "outputs": [],
   "source": [
    "from cycler import cycler\n",
    "from process_requestlogs import *\n",
    "from create_window_statistics import *\n",
    "from gather_memtier_statistics import *\n",
    "import matplotlib.pyplot as plt"
   ]
  },
  {
   "cell_type": "code",
   "execution_count": null,
   "metadata": {
    "collapsed": true
   },
   "outputs": [],
   "source": [
    "LOG_INTERVAL = 20 # Every 20th request is logged\n",
    "WINDOWSIZE_SEC = 5 # The window aggregates over 5 seconds. For the throughput (ops/sec) we need to divide by 5 again\n",
    "windowsize = str(WINDOWSIZE_SEC) + 's'"
   ]
  },
  {
   "cell_type": "code",
   "execution_count": null,
   "metadata": {
    "scrolled": true
   },
   "outputs": [],
   "source": [
    "inputdir = \"/home/flo/Downloads/exp3/3_1_middleware_baseline_onemw_2017-11-17_202816/readOnly_1vc8workers/1/middleware_04/2017-11-17 223537\"\n",
    "requests = concatenate_requestlogs(\n",
    "    inputdir,\n",
    "    \"requests\")\n",
    "requests = sort_by_clock(requests)\n",
    "metrics = extract_metrics(requests)\n",
    "metrics = metrics.reset_index()\n",
    "windows = create_window_statistics(metrics, windowsize)\n",
    "windows['count'] = windows['count'] * LOG_INTERVAL / WINDOWSIZE_SEC"
   ]
  },
  {
   "cell_type": "code",
   "execution_count": null,
   "metadata": {},
   "outputs": [],
   "source": [
    "inputdir = \"/home/flo/Downloads/exp3/3_1_middleware_baseline_onemw_2017-11-17_202816/readOnly_1vc8workers/2/middleware_04/2017-11-17 231745\"\n",
    "requests = concatenate_requestlogs(\n",
    "    inputdir,\n",
    "    \"requests\")\n",
    "requests = sort_by_clock(requests)\n",
    "metrics2 = extract_metrics(requests)\n",
    "windows2 = create_window_statistics(metrics2, windowsize)\n",
    "windows2['count'] = windows2['count'] * LOG_INTERVAL / WINDOWSIZE_SEC"
   ]
  },
  {
   "cell_type": "code",
   "execution_count": null,
   "metadata": {},
   "outputs": [],
   "source": [
    "inputdir = \"/home/flo/Downloads/exp3/3_1_middleware_baseline_onemw_2017-11-17_202816/readOnly_1vc8workers/3/middleware_04/2017-11-18 000008\"\n",
    "requests = concatenate_requestlogs(\n",
    "    inputdir,\n",
    "    \"requests\")\n",
    "requests = sort_by_clock(requests)\n",
    "metrics3 = extract_metrics(requests)\n",
    "windows3 = create_window_statistics(metrics3, windowsize)\n",
    "windows3['count'] = windows3['count'] * LOG_INTERVAL / WINDOWSIZE_SEC"
   ]
  },
  {
   "cell_type": "code",
   "execution_count": null,
   "metadata": {},
   "outputs": [],
   "source": [
    "ping_log_filepath = '/home/flo/Downloads/exp3/3_1_middleware_baseline_onemw_2017-11-17_202816/readOnly_1vc8workers/1/client_ping_01.log'\n",
    "startingClockTime=metrics['initializeClockTime'].min()\n",
    "print(startingClockTime)\n",
    "ping_log = extract_ping_logs(ping_log_filepath, startingClockTime)"
   ]
  },
  {
   "cell_type": "code",
   "execution_count": null,
   "metadata": {},
   "outputs": [],
   "source": [
    "# Throughput of the three runs\n",
    "fig, ax = plt.subplots()\n",
    "#ax.set_ylim([0,50000])\n",
    "#ax.set_xlim([0, 800])\n",
    "ax.set_prop_cycle(cycler('color',['#a6611a','#dfc27d', '#018571', '#80cdc1']))\n",
    "ax.plot(windows['initializeClockTime'], windows['count'])\n",
    "ax.plot(windows2['initializeClockTime'], windows2['count'])\n",
    "ax.plot(windows3['initializeClockTime'], windows3['count'])\n",
    "#plt.xticks(grp['num_clients'].head(7))\n",
    "ax.legend(loc=\"center right\")\n",
    "ax.set_title(\"\")\n",
    "ax.set_xlabel(\"time (sec)\")\n",
    "ax.set_ylabel(\"Throughput (ops/sec)\")\n",
    "\n",
    "plt.show()"
   ]
  },
  {
   "cell_type": "code",
   "execution_count": null,
   "metadata": {
    "scrolled": true
   },
   "outputs": [],
   "source": [
    "# Responsetimes of the three runs\n",
    "fig, ax = plt.subplots()\n",
    "#ax.set_ylim([0,50000])\n",
    "#ax.set_xlim([0, 800])\n",
    "ax.set_prop_cycle(cycler('color',['#a6611a','#dfc27d', '#018571', '#80cdc1']))\n",
    "ax.plot(windows['initializeClockTime'], windows['responseTime_ms'])\n",
    "ax.plot(windows2['initializeClockTime'], windows2['responseTime_ms'])\n",
    "ax.plot(windows3['initializeClockTime'], windows3['responseTime_ms'])\n",
    "#plt.xticks(grp['num_clients'].head(7))\n",
    "ax.legend(loc=\"center right\")\n",
    "ax.set_title(\"\")\n",
    "ax.set_xlabel(\"time (sec)\")\n",
    "ax.set_ylabel(\"Response Time (msec)\")\n",
    "\n",
    "plt.show()"
   ]
  },
  {
   "cell_type": "code",
   "execution_count": null,
   "metadata": {
    "scrolled": true
   },
   "outputs": [],
   "source": [
    "# Comparison of client throughput with middleware throughput\n",
    "client_log_filepath='/home/flo/Downloads/exp3/3_1_middleware_baseline_onemw_2017-11-17_202816/readOnly_1vc8workers/1/client_01.log'\n",
    "client_logs = extract_client_logs(client_log_filepath)\n",
    "\n",
    "fig, ax = plt.subplots()\n",
    "ax.set_prop_cycle(cycler('color',['#a6611a','#dfc27d', '#018571', '#80cdc1']))\n",
    "ax.plot(windows['initializeClockTime'], windows['count'])\n",
    "ax.plot(client_logs['timestep'], client_logs['throughput'])\n",
    "#plt.xticks(grp['num_clients'].head(7))\n",
    "ax.legend(loc=\"center right\")\n",
    "ax.set_title(\"\")\n",
    "ax.set_xlabel(\"time (sec)\")\n",
    "ax.set_ylabel(\"Response Time (msec)\")\n",
    "\n",
    "plt.show()\n",
    "\n",
    "fig, ax = plt.subplots()\n",
    "ax.set_ylim([0,5])\n",
    "ax.set_xlim([0, 90])\n",
    "ax.set_prop_cycle(cycler('color',['#a6611a','#dfc27d', '#018571', '#80cdc1']))\n",
    "ax.plot(windows['initializeClockTime'], windows['responseTime_ms'])\n",
    "ax.plot(client_logs['timestep'], client_logs['responsetime'])\n",
    "ax.plot(ping_log['clockTime'], ping_log['rtt'])\n",
    "#plt.xticks(grp['num_clients'].head(7))\n",
    "ax.legend(loc=\"center right\")\n",
    "ax.set_title(\"\")\n",
    "ax.set_xlabel(\"time (sec)\")\n",
    "ax.set_ylabel(\"Response Time (msec)\")\n",
    "\n",
    "plt.show()"
   ]
  },
  {
   "cell_type": "code",
   "execution_count": null,
   "metadata": {},
   "outputs": [],
   "source": [
    "# Histogram of response times\n",
    "#metrics = metrics.reset_index()\n",
    "all_data=metrics['responseTime_us']\n",
    "nowarmup_data=metrics.loc[500:3700, ['responseTime_us']]\n",
    "binwidth=100\n",
    "plt.hist(all_data, bins=range(int(all_data.min()), int(all_data.max()) + binwidth, binwidth))\n",
    "\n",
    "plt.show()"
   ]
  }
 ],
 "metadata": {
  "kernelspec": {
   "display_name": "Python 3",
   "language": "python",
   "name": "python3"
  },
  "language_info": {
   "codemirror_mode": {
    "name": "ipython",
    "version": 3
   },
   "file_extension": ".py",
   "mimetype": "text/x-python",
   "name": "python",
   "nbconvert_exporter": "python",
   "pygments_lexer": "ipython3",
   "version": "3.6.3"
  }
 },
 "nbformat": 4,
 "nbformat_minor": 2
}
