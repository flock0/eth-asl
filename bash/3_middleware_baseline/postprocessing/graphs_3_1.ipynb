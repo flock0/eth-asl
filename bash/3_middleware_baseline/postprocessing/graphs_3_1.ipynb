{
 "cells": [
  {
   "cell_type": "code",
   "execution_count": 4,
   "metadata": {
    "collapsed": true
   },
   "outputs": [],
   "source": [
    "from cycler import cycler\n",
    "from process_requestlogs import *\n",
    "from create_window_statistics import *\n",
    "from gather_memtier_statistics import *\n",
    "import matplotlib.pyplot as plt"
   ]
  },
  {
   "cell_type": "code",
   "execution_count": 5,
   "metadata": {
    "collapsed": true
   },
   "outputs": [],
   "source": [
    "LOG_INTERVAL = 20 # Every 20th request is logged\n",
    "WINDOWSIZE_SEC = 5 # The window aggregates over 5 seconds. For the throughput (ops/sec) we need to divide by 5 again\n",
    "windowsize = str(WINDOWSIZE_SEC) + 's'"
   ]
  },
  {
   "cell_type": "code",
   "execution_count": 6,
   "metadata": {
    "scrolled": true
   },
   "outputs": [
    {
     "name": "stdout",
     "output_type": "stream",
     "text": [
      "Concatenating requestlogs in /home/flo/Downloads/exp3/3_1_middleware_baseline_onemw_2017-11-17_202816/readOnly_1vc8workers/1/middleware_04/2017-11-17 223537\n"
     ]
    }
   ],
   "source": [
    "from create_graphs import *\n",
    "inputdir = \"/home/flo/Downloads/exp3/3_1_middleware_baseline_onemw_2017-11-17_202816\"\n",
    "middlewares = [\"middleware_04\"]\n",
    "dir_suffix_regex_string = \"_\\d*vc\\d*workers\"\n",
    "warmup_period_endtime = 10\n",
    "cooldown_period_starttime = 72\n",
    "outdir = \"./graphs\"\n",
    "client_logfiles = [\"client_01.log\"]\n",
    "create_workload_graphs(inputdir, \"writeOnly\", middlewares, client_logfiles, dir_suffix_regex_string, warmup_period_endtime, cooldown_period_starttime, outdir)\n",
    "create_workload_graphs(inputdir, \"readOnly\", middlewares, client_logfiles, dir_suffix_regex_string, warmup_period_endtime, cooldown_period_starttime, outdir)"
   ]
  },
  {
   "cell_type": "code",
   "execution_count": null,
   "metadata": {
    "collapsed": true
   },
   "outputs": [],
   "source": [
    "ping_log_filepath = '/home/flo/Downloads/exp3/3_1_middleware_baseline_onemw_2017-11-17_202816/readOnly_1vc8workers/1/client_ping_01.log'\n",
    "startingClockTime=metrics['initializeClockTime'].min()\n",
    "print(startingClockTime)\n",
    "ping_log = extract_ping_logs(ping_log_filepath, startingClockTime)"
   ]
  },
  {
   "cell_type": "code",
   "execution_count": null,
   "metadata": {
    "collapsed": true
   },
   "outputs": [],
   "source": [
    "metrics"
   ]
  }
 ],
 "metadata": {
  "kernelspec": {
   "display_name": "Python 3",
   "language": "python",
   "name": "python3"
  },
  "language_info": {
   "codemirror_mode": {
    "name": "ipython",
    "version": 3
   },
   "file_extension": ".py",
   "mimetype": "text/x-python",
   "name": "python",
   "nbconvert_exporter": "python",
   "pygments_lexer": "ipython3",
   "version": "3.6.3"
  }
 },
 "nbformat": 4,
 "nbformat_minor": 2
}
