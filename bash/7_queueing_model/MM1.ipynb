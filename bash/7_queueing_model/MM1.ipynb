{
 "cells": [
  {
   "cell_type": "code",
   "execution_count": 1,
   "metadata": {
    "collapsed": true
   },
   "outputs": [],
   "source": [
    "import os\n",
    "import numpy as np\n",
    "import pandas as pd\n",
    "import matplotlib.pyplot as plt\n",
    "import directory_functions as dirfuncs\n",
    "import gather_middleware_statistics as gmws\n",
    "import cut_away_warmup_cooldown as cut\n",
    "\n",
    "exp_dir = \"/home/flo/Documents/eth-asl-final-experiment-data/exp4/4_detailedrun_two_2017-11-29_165453\""
   ]
  },
  {
   "cell_type": "code",
   "execution_count": 2,
   "metadata": {
    "collapsed": true
   },
   "outputs": [],
   "source": [
    "# Get response times from MW for 6 multigets\n",
    "def gather_requests(exp_dir, reps, middlewares):\n",
    "    all_reps = []\n",
    "    for rep in reps:\n",
    "\n",
    "        middleware_dirs = [dirfuncs.get_only_subdir(os.path.join(exp_dir, str(rep), mw_dir)) for mw_dir in middlewares]\n",
    "        concatenated_requests = [gmws.concatenate_requestlogs(middleware_dir) for middleware_dir in middleware_dirs]\n",
    "\n",
    "\n",
    "        \n",
    "        metrics = [gmws.extract_metrics(reqs) for reqs in concatenated_requests]\n",
    "\n",
    "\n",
    "        cut_metrics = [cut.cut_away_warmup_cooldown(mets, 10, 72) for mets in metrics]\n",
    "\n",
    "        all_reps.extend(cut_metrics)\n",
    "        \n",
    "    return pd.concat(all_reps)\n"
   ]
  },
  {
   "cell_type": "code",
   "execution_count": 3,
   "metadata": {
    "collapsed": true
   },
   "outputs": [],
   "source": [
    "# What should be the granularity of the memtier response time interpolation?\n",
    "granularity = 0.1\n",
    "\n",
    "# Extract GET histogram from single memtier logfile\n",
    "def parse_line(line):\n",
    "    split = line.split()\n",
    "    return (split[1], split[2])\n",
    "def extract_GET_histogram(client_logfile_path):\n",
    "    with open(client_logfile_path, \"r\") as logfile:\n",
    "        return [parse_line(line)for line in logfile if line.startswith(\"SET\")]\n",
    "def extract_GET_throughput(client_logfile_path):\n",
    "    with open(client_logfile_path, \"r\") as logfile:\n",
    "        for line in logfile:\n",
    "            if line.startswith(\"Sets\"):\n",
    "                split_line = line.split()\n",
    "                return float(split_line[1])\n",
    "def interpolate_histogram(hist, granularity):\n",
    "    rowcount = hist.shape[0]\n",
    "    desired_steps = np.arange(start=hist[0, 0], stop=hist[rowcount-1, 0], step=granularity)\n",
    "    return desired_steps, np.interp(desired_steps, hist[:,0], hist[:,1])\n",
    "def calculate_numrequests(interpolated, xput, granularity):\n",
    "    interpolated = np.vstack(interpolated).transpose()\n",
    "    sorted = interpolated[interpolated[:,0].argsort()]\n",
    "\n",
    "    shifted = np.hstack([sorted[:-1,:], sorted[1:,:]])\n",
    "    shifted_frame = pd.DataFrame(data=shifted, columns=['responsetime_unshifted', 'percentile_unshifted', 'responsetime', 'percentile'])\n",
    "    shifted_frame['num_requests'] = shifted_frame['percentile'] * xput / 100\n",
    "    shifted_frame['num_requests_unshifted'] = shifted_frame['percentile_unshifted'] * xput / 100\n",
    "    shifted_frame['requests'] = (shifted_frame['num_requests'] - shifted_frame['num_requests_unshifted'])\n",
    "\n",
    "    return shifted_frame.loc[:, ['responsetime', 'percentile', 'requests']]\n",
    "def combine_multiple_histograms(histogram_arrays, throughputs, granularity):\n",
    "    interpolated = [interpolate_histogram(hist, granularity) for hist in histogram_arrays]\n",
    "    interpolated_with_numrequests = [calculate_numrequests(interp, xput, granularity) for interp, xput in zip(interpolated, throughputs)]\n",
    "    return pd.concat(interpolated_with_numrequests).groupby('responsetime').agg({'requests': 'sum'}).reset_index()\n",
    "\n",
    "def wquantile(x,q):           \n",
    "    xsort = x.sort_values(x.columns[0])\n",
    "    xsort['index'] = range(len(x))\n",
    "    p = q * x[x.columns[1]].sum()\n",
    "    pop = float(xsort[xsort.columns[1]][xsort['index']==0])\n",
    "    i = 0\n",
    "    while pop < p:\n",
    "        pop = pop + float(xsort[xsort.columns[1]][xsort['index']==i+1])\n",
    "        i = i + 1\n",
    "    return xsort[xsort.columns[0]][xsort['index']==i]\n",
    "\n",
    "def extract_percentiles(data, percentiles):\n",
    "    percentile_list = []\n",
    "    percentile_list.extend([(perc, wquantile(data, perc).values[0]) for perc in percentiles])\n",
    "    return pd.DataFrame(data=percentile_list, columns=['percentile', 'responsetime'])"
   ]
  },
  {
   "cell_type": "code",
   "execution_count": 4,
   "metadata": {
    "scrolled": true
   },
   "outputs": [
    {
     "name": "stdout",
     "output_type": "stream",
     "text": [
      "Concatenating requestlogs in /home/flo/Documents/eth-asl-final-experiment-data/exp4/4_detailedrun_two_2017-11-29_165453/writeOnly_32vc8workers/1/middleware_04/2017-11-29 174633\n",
      "Concatenating requestlogs in /home/flo/Documents/eth-asl-final-experiment-data/exp4/4_detailedrun_two_2017-11-29_165453/writeOnly_32vc8workers/1/middleware_05/2017-11-29 174634\n",
      "Concatenating requestlogs in /home/flo/Documents/eth-asl-final-experiment-data/exp4/4_detailedrun_two_2017-11-29_165453/writeOnly_32vc8workers/2/middleware_04/2017-11-29 185713\n",
      "Concatenating requestlogs in /home/flo/Documents/eth-asl-final-experiment-data/exp4/4_detailedrun_two_2017-11-29_165453/writeOnly_32vc8workers/2/middleware_05/2017-11-29 185714\n",
      "Concatenating requestlogs in /home/flo/Documents/eth-asl-final-experiment-data/exp4/4_detailedrun_two_2017-11-29_165453/writeOnly_32vc8workers/3/middleware_04/2017-11-29 200752\n",
      "Concatenating requestlogs in /home/flo/Documents/eth-asl-final-experiment-data/exp4/4_detailedrun_two_2017-11-29_165453/writeOnly_32vc8workers/3/middleware_05/2017-11-29 200752\n"
     ]
    }
   ],
   "source": [
    "num_workers = 8\n",
    "run = \"writeOnly_32vc{}workers\".format(num_workers)\n",
    "inputdir = os.path.join(exp_dir, run)\n",
    "\n",
    "                        \n",
    "reps_range = range(1, 4)\n",
    "middlewares = [\"middleware_04\", \"middleware_05\"]\n",
    "reqs = gather_requests(inputdir, reps_range, middlewares)\n",
    "\n",
    "# Extracting histograms for Sharded\n",
    "client_logfiles = [\"client_01_0.log\", \"client_01_1.log\", \"client_02_0.log\", \"client_02_1.log\", \"client_03_0.log\", \"client_03_1.log\"]\n",
    "reps = 3\n",
    "filepaths = [os.path.join(inputdir, str(rep), logfiles) for rep in range(1, reps+1) for logfiles in client_logfiles]\n",
    "histograms = [np.array(extract_GET_histogram(filepath), dtype=float) for filepath in filepaths]\n",
    "throughputs = [extract_GET_throughput(filepath) for filepath in filepaths]\n",
    "hist_data = combine_multiple_histograms(histograms, throughputs, granularity)\n"
   ]
  },
  {
   "cell_type": "code",
   "execution_count": 5,
   "metadata": {},
   "outputs": [
    {
     "name": "stdout",
     "output_type": "stream",
     "text": [
      "Concatenating requestlogs in /home/flo/Documents/eth-asl-final-experiment-data/exp4/4_detailedrun_two_2017-11-29_165453/writeOnly_32vc8workers/1/middleware_04/2017-11-29 174633\n",
      "Concatenating requestlogs in /home/flo/Documents/eth-asl-final-experiment-data/exp4/4_detailedrun_two_2017-11-29_165453/writeOnly_32vc8workers/1/middleware_05/2017-11-29 174634\n",
      "Concatenating requestlogs in /home/flo/Documents/eth-asl-final-experiment-data/exp4/4_detailedrun_two_2017-11-29_165453/writeOnly_32vc8workers/2/middleware_04/2017-11-29 185713\n",
      "Concatenating requestlogs in /home/flo/Documents/eth-asl-final-experiment-data/exp4/4_detailedrun_two_2017-11-29_165453/writeOnly_32vc8workers/2/middleware_05/2017-11-29 185714\n",
      "Concatenating requestlogs in /home/flo/Documents/eth-asl-final-experiment-data/exp4/4_detailedrun_two_2017-11-29_165453/writeOnly_32vc8workers/3/middleware_04/2017-11-29 200752\n",
      "Concatenating requestlogs in /home/flo/Documents/eth-asl-final-experiment-data/exp4/4_detailedrun_two_2017-11-29_165453/writeOnly_32vc8workers/3/middleware_05/2017-11-29 200752\n"
     ]
    }
   ],
   "source": [
    "all_reps = []\n",
    "for rep in reps_range:\n",
    "\n",
    "    log_folder_path = os.path.join(inputdir, str(int(rep)))\n",
    "\n",
    "    # Now we extract throughput, responsetime, average queuetime and missrate from the middleware\n",
    "    middleware_dirs = [dirfuncs.get_only_subdir(os.path.join(log_folder_path, mw_dir)) for mw_dir in middlewares]\n",
    "    concatenated_requests = [gmws.concatenate_requestlogs(middleware_dir) for middleware_dir in middleware_dirs]\n",
    "    metrics = [gmws.extract_metrics(reqs) for reqs in concatenated_requests]\n",
    "    cut_metrics = [cut.cut_away_warmup_cooldown(mets, 10, 72) for mets in metrics]\n",
    "    windows = [gmws.aggregate_over_windows(cut_mets) for cut_mets in cut_metrics]\n",
    "    rep_metrics = gmws.aggregate_over_middlewares(windows)\n",
    "    all_reps.append(rep_metrics)\n",
    "\n",
    "mw_agg_over_reps = gmws.aggregate_over_reps(all_reps)\n",
    "mw_averages = gmws.aggregate_over_timesteps(mw_agg_over_reps)\n",
    "avg = mw_averages.loc['mean', :]"
   ]
  },
  {
   "cell_type": "code",
   "execution_count": 6,
   "metadata": {
    "collapsed": true
   },
   "outputs": [],
   "source": [
    "arrivalrate_lambda = avg['throughput_mw']\n",
    "servicerate_mu = 8215 # The maximum throughput ever observed\n",
    "trafficIntensity_roh = arrivalrate_lambda / servicerate_mu\n",
    "interarrivalTime_tao = 1000 / arrivalrate_lambda\n",
    "servicetime_s = 1000 / servicerate_mu\n",
    "mean_number_jobs_in_system = trafficIntensity_roh/(1-trafficIntensity_roh) # Compare with worker count\n",
    "mean_number_jobs_in_queue = trafficIntensity_roh**2/(1-trafficIntensity_roh) # Compare with worker count\n",
    "def cumulative_responsetime_distribution(r):\n",
    "    return 1 - np.exp(-r*servicerate_mu*(1-trafficIntensity_roh))\n",
    "mean_response_time_r = 1000 * (1/servicerate_mu)/(1-trafficIntensity_roh) # Compare with mean response time of client or middleware\n",
    "def percentile_of_responsetimes(q): # Compare with \n",
    "    return mean_response_time_r*np.log(100/(100-q))\n",
    "mean_waiting_time_w = 1000 * trafficIntensity_roh*(1/servicerate_mu)/(1-trafficIntensity_roh) #  Compare with queue time"
   ]
  },
  {
   "cell_type": "code",
   "execution_count": 7,
   "metadata": {
    "scrolled": false
   },
   "outputs": [
    {
     "name": "stdout",
     "output_type": "stream",
     "text": [
      "Arrival Rate Lambda: Predicted: 8146.666666666666, Actual Throughput: 8146.666666666666\n",
      "Service Rate Mu: Predicted: 8215\n",
      "Traffic Intensity roh / Utilization: Predicted: 0.9917\n",
      "Interarrival Time: Predicted: 0.1227, Actual interarrival time: 0.2393\n",
      "Worker Service Time: Predicted: 0.1217, Actual worker service time: 1.9119\n",
      "Number of Jobs in System: Predicted: 119.2195, Actual Num Workers: 8.0000\n",
      "Number of Jobs in Queue: Predicted: 118.2278, Actual Queue Length: 80.6430\n",
      "Mean Response Time r: Predicted: 14.6341, Actual Response Time (Middleware): 21.8102\n",
      "Mean Waiting Time w: Predicted: 14.5124, Actual Queue Waiting Time: 19.8842\n"
     ]
    },
    {
     "data": {
      "image/png": "[encoded data removed]",
      "text/plain": [
       "<matplotlib.figure.Figure at 0x7feb73ce6cc0>"
      ]
     },
     "metadata": {},
     "output_type": "display_data"
    }
   ],
   "source": [
    "print(\"Arrival Rate Lambda: Predicted: {}, Actual Throughput: {}\".format(arrivalrate_lambda, avg['throughput_mw']))\n",
    "print(\"Service Rate Mu: Predicted: {}\".format(servicerate_mu))\n",
    "print(\"Traffic Intensity roh / Utilization: Predicted: {:0.4f}\".format(trafficIntensity_roh))\n",
    "print(\"Interarrival Time: Predicted: {:0.4f}, Actual interarrival time: {:0.4f}\".format(interarrivalTime_tao, reqs['interarrivalTime_ms'].mean()))\n",
    "actual_workerServiceTime_ms = (reqs['workerPreProcessingTime_ms'] + reqs['memcachedRTT_ms'] + reqs['workerPostProcessingTime_ms']).mean()\n",
    "print(\"Worker Service Time: Predicted: {:0.4f}, Actual worker service time: {:0.4f}\".format(servicetime_s, actual_workerServiceTime_ms))\n",
    "print(\"Number of Jobs in System: Predicted: {:0.4f}, Actual Num Workers: {:0.4f}\".format(mean_number_jobs_in_system, num_workers))\n",
    "print(\"Number of Jobs in Queue: Predicted: {:0.4f}, Actual Queue Length: {:0.4f}\".format(mean_number_jobs_in_queue, avg['queueLength']))\n",
    "print(\"Mean Response Time r: Predicted: {:0.4f}, Actual Response Time (Middleware): {:0.4f}\".format(mean_response_time_r, avg['responseTime_ms']))\n",
    "print(\"Mean Waiting Time w: Predicted: {:0.4f}, Actual Queue Waiting Time: {:0.4f}\".format(mean_waiting_time_w, avg['queueTime_ms']))\n",
    "\n",
    "desired_percentiles = range(10, 100, 10)\n",
    "memtier_percentiles = extract_percentiles(hist_data, [0.1,0.2,0.3,0.4,0.5,0.6,0.7,0.8,0.9])\n",
    "responsetime_percentiles = [percentile_of_responsetimes(perc) for perc in desired_percentiles]\n",
    "\n",
    "fig, axes = plt.subplots(2, sharex=True, figsize=(6,5))\n",
    "axes[0].plot(desired_percentiles, memtier_percentiles['responsetime'], marker='o', color='#e34a33')\n",
    "axes[1].plot(desired_percentiles, responsetime_percentiles, marker='o', color='#fc8d59')\n",
    "axes[0].set_ylim([0,15])\n",
    "axes[1].set_ylim([0,1.1])\n",
    "axes[0].set_ylabel(\"Actual Resp.Time (ms)\")\n",
    "axes[1].set_ylabel(\"Predicted Resp.Time (ms)\")\n",
    "axes[1].set_xlabel(\"Percentiles\")\n",
    "axes[0].set_title(\"\")\n",
    "plt.show()\n",
    "fig.savefig(\"./graphs/mm1_percentiles_{}workers\".format(num_workers), dpi=300)"
   ]
  }
 ],
 "metadata": {
  "kernelspec": {
   "display_name": "Python 3",
   "language": "python",
   "name": "python3"
  },
  "language_info": {
   "codemirror_mode": {
    "name": "ipython",
    "version": 3
   },
   "file_extension": ".py",
   "mimetype": "text/x-python",
   "name": "python",
   "nbconvert_exporter": "python",
   "pygments_lexer": "ipython3",
   "version": "3.6.3"
  }
 },
 "nbformat": 4,
 "nbformat_minor": 2
}
