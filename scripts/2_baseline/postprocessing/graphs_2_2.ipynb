{
 "cells": [
  {
   "cell_type": "code",
   "execution_count": null,
   "metadata": {
    "collapsed": true
   },
   "outputs": [],
   "source": [
    "from cycler import cycler\n",
    "from gather_averages_2_2 import gather_averages\n",
    "import matplotlib.pyplot as plt"
   ]
  },
  {
   "cell_type": "code",
   "execution_count": null,
   "metadata": {},
   "outputs": [],
   "source": [
    "# Extract data\n",
    "inputdir=\"\" # 2.2 experiment dir\n",
    "all_reps_extracted = gather_averages(inputdir)\n",
    "all_reps=all_reps_extracted.reset_index()"
   ]
  },
  {
   "cell_type": "code",
   "execution_count": null,
   "metadata": {
    "collapsed": true
   },
   "outputs": [],
   "source": [
    "# Group by and calculate AVG and MEAN\n",
    "averages = all_reps.groupby(['num_clients', 'workload'], as_index=True).agg(\n",
    "                      {'sum_throughput':['mean','std'],'avg_responsetime':['mean','std']})\n",
    "avg = averages.reset_index()"
   ]
  },
  {
   "cell_type": "code",
   "execution_count": null,
   "metadata": {
    "collapsed": true
   },
   "outputs": [],
   "source": [
    "# Calculate throughput and responsetime using interactive responsetime laws\n",
    "avg['interact_responsetime_mean'] = avg['num_clients']/avg[('sum_throughput', 'mean')]*1000\n",
    "avg['interact_throughput_mean'] = avg['num_clients']/avg[('avg_responsetime', 'mean')]*1000"
   ]
  },
  {
   "cell_type": "code",
   "execution_count": null,
   "metadata": {
    "scrolled": true
   },
   "outputs": [],
   "source": [
    "# 2.1 Throughput graph\n",
    "fig, ax = plt.subplots()\n",
    "#ax.set_ylim([0,30000])\n",
    "ax.set_xlim([0, 300])\n",
    "ax.set_prop_cycle(cycler('color',['#a6611a','#dfc27d', '#018571', '#80cdc1']))\n",
    "for key, grp in avg.groupby(['workload']):\n",
    "    ax.errorbar(grp['num_clients'], grp[('sum_throughput', 'mean')], yerr=2*grp[('sum_throughput', 'std')], label=key,  marker='o', capsize=3)\n",
    "    ax.plot(grp['num_clients'], grp['interact_throughput_mean'], label=key + \" by interactive law\",  marker='o', linestyle='--')\n",
    "    plt.xticks(grp['num_clients'].head(7))\n",
    "ax.legend(loc=\"lower right\")\n",
    "ax.set_title(\"Experiment 2.2: 1 Memtier -> 2 Memcached\\nThroughput vs. Number of clients\")\n",
    "ax.set_xlabel(\"Number of clients\")\n",
    "ax.set_ylabel(\"Throughput (ops/sec)\")\n",
    "\n",
    "plt.show()\n",
    "fig.savefig('exp2_2_throughput.png', dpi=300)"
   ]
  },
  {
   "cell_type": "code",
   "execution_count": null,
   "metadata": {},
   "outputs": [],
   "source": [
    "# 2.1 Responsetime graph\n",
    "fig, ax = plt.subplots()\n",
    "ax.set_ylim([0,20])\n",
    "ax.set_xlim([0, 300])\n",
    "ax.set_prop_cycle(cycler('color',['#a6611a','#dfc27d', '#018571', '#80cdc1']))\n",
    "for key, grp in avg.groupby(['workload']):\n",
    "    ax.errorbar(grp['num_clients'], grp[('avg_responsetime', 'mean')], yerr=2*grp[('avg_responsetime', 'std')], label=key,  marker='o', capsize=3)\n",
    "    ax.plot(grp['num_clients'], grp['interact_responsetime_mean'], label=key + \" by interactive law\",  marker='o', linestyle='--')\n",
    "    plt.xticks(grp['num_clients'].head(7))\n",
    "ax.legend(loc=\"lower right\")\n",
    "ax.set_title(\"Experiment 2.2: 1 Memtier -> 2 Memcached\\nResponse Time vs. Number of clients\")\n",
    "ax.set_xlabel(\"Number of clients\")\n",
    "ax.set_ylabel(\"Response Time (msec)\")\n",
    "plt.show()\n",
    "fig.savefig('exp2_2_responsetime.png', dpi=300)"
   ]
  }
 ],
 "metadata": {
  "kernelspec": {
   "display_name": "Python 3",
   "language": "python",
   "name": "python3"
  },
  "language_info": {
   "codemirror_mode": {
    "name": "ipython",
    "version": 3
   },
   "file_extension": ".py",
   "mimetype": "text/x-python",
   "name": "python",
   "nbconvert_exporter": "python",
   "pygments_lexer": "ipython3",
   "version": "3.6.3"
  }
 },
 "nbformat": 4,
 "nbformat_minor": 2
}
