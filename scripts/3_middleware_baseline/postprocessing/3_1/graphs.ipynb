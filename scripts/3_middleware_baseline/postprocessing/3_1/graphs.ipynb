{
 "cells": [
  {
   "cell_type": "code",
   "execution_count": 3,
   "metadata": {
    "collapsed": true
   },
   "outputs": [],
   "source": [
    "import graph_xputresp_vs_vc as xput_vs_vc\n",
    "import graph_xput_vs_time as xput_vs_time\n",
    "import graph_responsetime as resptime\n",
    "import graph_queuelength as queuelen\n",
    "import summary_table as summ\n",
    "import matplotlib.pyplot as plt\n",
    "import os, sys"
   ]
  },
  {
   "cell_type": "code",
   "execution_count": 5,
   "metadata": {
    "collapsed": true
   },
   "outputs": [],
   "source": [
    "exp3_1_inputdir = \"/home/flo/Documents/eth-asl-final-experiment-data/exp3/3_1_middleware_baseline_onemw_2017-11-25_120804\" # Provide path to exp 3_1 data directory"
   ]
  },
  {
   "cell_type": "code",
   "execution_count": null,
   "metadata": {
    "collapsed": true,
    "scrolled": true
   },
   "outputs": [],
   "source": [
    "# Experiment 3.1: One Middleware\n",
    "# Plot the throughput and response time measured in the middleware\n",
    "\n",
    "inputdir = exp3_1_inputdir \n",
    "experiment_label = \"exp3_1\"\n",
    "\n",
    "middlewares = [\"middleware_04\"]\n",
    "client_logfiles = [\"client_01.log\"]\n",
    "dir_suffix_regex_string = \"_\\d*vc\\d*workers\"\n",
    "warmup_period_endtime = 10\n",
    "cooldown_period_starttime = 72\n",
    "outdir = \"./graphs\"\n",
    "num_threads = 2\n",
    "\n",
    "xput_vs_vc.create_workload_graphs(inputdir, experiment_label, \"writeOnly\", middlewares, client_logfiles, dir_suffix_regex_string, warmup_period_endtime, cooldown_period_starttime, outdir, num_threads)\n",
    "xput_vs_vc.create_workload_graphs(inputdir, experiment_label, \"readOnly\", middlewares, client_logfiles, dir_suffix_regex_string, warmup_period_endtime, cooldown_period_starttime, outdir, num_threads)"
   ]
  },
  {
   "cell_type": "code",
   "execution_count": 9,
   "metadata": {},
   "outputs": [
    {
     "name": "stdout",
     "output_type": "stream",
     "text": [
      "Extracting stats from client log /home/flo/Documents/eth-asl-final-experiment-data/exp3/3_1_middleware_baseline_onemw_2017-11-25_120804/writeOnly_1vc64workers/1/client_01.log\n",
      "Extracting stats from client log /home/flo/Documents/eth-asl-final-experiment-data/exp3/3_1_middleware_baseline_onemw_2017-11-25_120804/writeOnly_1vc64workers/2/client_01.log\n",
      "Extracting stats from client log /home/flo/Documents/eth-asl-final-experiment-data/exp3/3_1_middleware_baseline_onemw_2017-11-25_120804/writeOnly_1vc64workers/3/client_01.log\n",
      "Extracting stats from client log /home/flo/Documents/eth-asl-final-experiment-data/exp3/3_1_middleware_baseline_onemw_2017-11-25_120804/writeOnly_8vc64workers/1/client_01.log\n",
      "Extracting stats from client log /home/flo/Documents/eth-asl-final-experiment-data/exp3/3_1_middleware_baseline_onemw_2017-11-25_120804/writeOnly_8vc64workers/2/client_01.log\n",
      "Extracting stats from client log /home/flo/Documents/eth-asl-final-experiment-data/exp3/3_1_middleware_baseline_onemw_2017-11-25_120804/writeOnly_8vc64workers/3/client_01.log\n",
      "Extracting stats from client log /home/flo/Documents/eth-asl-final-experiment-data/exp3/3_1_middleware_baseline_onemw_2017-11-25_120804/writeOnly_16vc64workers/1/client_01.log\n",
      "Extracting stats from client log /home/flo/Documents/eth-asl-final-experiment-data/exp3/3_1_middleware_baseline_onemw_2017-11-25_120804/writeOnly_16vc64workers/2/client_01.log\n",
      "Extracting stats from client log /home/flo/Documents/eth-asl-final-experiment-data/exp3/3_1_middleware_baseline_onemw_2017-11-25_120804/writeOnly_16vc64workers/3/client_01.log\n",
      "Extracting stats from client log /home/flo/Documents/eth-asl-final-experiment-data/exp3/3_1_middleware_baseline_onemw_2017-11-25_120804/writeOnly_32vc64workers/1/client_01.log\n",
      "Extracting stats from client log /home/flo/Documents/eth-asl-final-experiment-data/exp3/3_1_middleware_baseline_onemw_2017-11-25_120804/writeOnly_32vc64workers/2/client_01.log\n",
      "Extracting stats from client log /home/flo/Documents/eth-asl-final-experiment-data/exp3/3_1_middleware_baseline_onemw_2017-11-25_120804/writeOnly_32vc64workers/3/client_01.log\n",
      "32.0 2.8963541666666672 22090.075520833336\n",
      "Extracting stats from ping log /home/flo/Documents/eth-asl-final-experiment-data/exp3/3_1_middleware_baseline_onemw_2017-11-25_120804/writeOnly_32vc64workers/1/client_ping_.log\n",
      "Extracting stats from ping log /home/flo/Documents/eth-asl-final-experiment-data/exp3/3_1_middleware_baseline_onemw_2017-11-25_120804/writeOnly_32vc64workers/2/client_ping_.log\n",
      "Extracting stats from ping log /home/flo/Documents/eth-asl-final-experiment-data/exp3/3_1_middleware_baseline_onemw_2017-11-25_120804/writeOnly_32vc64workers/3/client_ping_.log\n",
      "Concatenating requestlogs in /home/flo/Documents/eth-asl-final-experiment-data/exp3/3_1_middleware_baseline_onemw_2017-11-25_120804/writeOnly_32vc64workers/1/middleware_04/2017-11-25 123326\n",
      "Concatenating requestlogs in /home/flo/Documents/eth-asl-final-experiment-data/exp3/3_1_middleware_baseline_onemw_2017-11-25_120804/writeOnly_32vc64workers/2/middleware_04/2017-11-25 132551\n",
      "Concatenating requestlogs in /home/flo/Documents/eth-asl-final-experiment-data/exp3/3_1_middleware_baseline_onemw_2017-11-25_120804/writeOnly_32vc64workers/3/middleware_04/2017-11-25 141813\n",
      "64 workers:\n",
      "\n",
      "Throughput MW:\t\t\t\t\t\t\t\t21721.26984126985\n",
      "Response Time MW:\t\t\t\t\t\t1.138618162577006\n",
      "Avg Time in Queue:\t\t\t\t\t\t0.3879260050803612\n",
      "Miss rate MW:\t\t\t\t\t\t\t0.0\n",
      "Throughput MT:\t\t\t\t\t\t22090.075520833336\n",
      "Response Time MT:\t\t\t\t\t2.8963541666666672\n",
      "Miss rate MT:\t\t\t\t\t0.0\n",
      "Num Clients:\t\t\t\t\t64.0\n",
      "\n"
     ]
    }
   ],
   "source": [
    "### Summary Table: Finding maximum throughput configuration\n",
    "# Maximum throughput for one middleware\n",
    "\n",
    "inputdir = exp3_1_inputdir\n",
    "\n",
    "workers = [64]\n",
    "vc_configs = {64: [1, 8, 16, 32]}\n",
    "reps = 3\n",
    "middlewares = [\"middleware_04\"]\n",
    "client_logfiles = [\"client_01.log\"]\n",
    "warmup_period_endtime = 10\n",
    "cooldown_period_starttime = 72\n",
    "num_threads = 2\n",
    "thinktime_ms = 0\n",
    "\n",
    "workload = \"writeOnly\"\n",
    "for worker in workers:\n",
    "    vc, resptime, xput = summ.find_max_throughput(inputdir, workload, worker, vc_configs[worker], reps, client_logfiles, warmup_period_endtime, cooldown_period_starttime)\n",
    "    print(vc, resptime, xput)\n",
    "    summ.extract_summary_from_config(inputdir, workload, worker, vc, reps, xput, resptime, thinktime_ms, num_threads, middlewares, client_logfiles, warmup_period_endtime, cooldown_period_starttime)\n"
   ]
  },
  {
   "cell_type": "code",
   "execution_count": null,
   "metadata": {
    "collapsed": true,
    "scrolled": true
   },
   "outputs": [],
   "source": [
    "## Drawing the response time break-down of a a few interesting configurations of readOnly workload\n",
    "inputdir = exp3_1_inputdir\n",
    "worker_configs = [8, 16, 32, 64] # Provide worker configurations used\n",
    "vc_configs = [1, 8, 16, 32, 64, 96, 128, 160] # Provide vc configurations used\n",
    "reps = [1, 2, 3]\n",
    "middlewares = [\"middleware_04\"]\n",
    "client_logfiles = [\"client_01.log\"]\n",
    "warmup_period_endtime = 10\n",
    "cooldown_period_starttime = 72\n",
    "ping_logfile = \"client_ping_01.log\"\n",
    "outdir = \"./graphs\"\n",
    "experiment_label = \"exp3_1\"\n",
    "xlim=7.5\n",
    "num_threads=2\n",
    "\n",
    "fig, axes = plt.subplots(1,4, sharey=True, figsize=(15, 4))\n",
    "resptime.graph_responsetime(8, 16, num_threads, \"readOnly\", middlewares, client_logfiles, reps, inputdir, xlim, axes[0])\n",
    "resptime.graph_responsetime(16, 16, num_threads, \"readOnly\", middlewares, client_logfiles, reps, inputdir, xlim, axes[1])\n",
    "\n",
    "resptime.graph_responsetime(32, 16, num_threads, \"readOnly\", middlewares, client_logfiles, reps, inputdir, xlim, axes[2])\n",
    "resptime.graph_responsetime(64, 16, num_threads, \"readOnly\", middlewares, client_logfiles, reps, inputdir, xlim, axes[3])\n",
    "fig.tight_layout()\n",
    "plt.show()\n",
    "\n",
    "fig.savefig(os.path.join(outdir, experiment_label, \"3_1_responseTimeBreakDown_readOnly.png\"), dpi=300)"
   ]
  },
  {
   "cell_type": "code",
   "execution_count": null,
   "metadata": {
    "collapsed": true,
    "scrolled": true
   },
   "outputs": [],
   "source": [
    "inputdir = exp3_1_inputdir\n",
    "worker_configs = [8, 16, 32, 64] # Provide worker configurations used\n",
    "vc_configs = [1, 8, 16, 32, 64, 96, 128, 160] # Provide vc configurations used\n",
    "reps = [1, 2, 3]\n",
    "middlewares = [\"middleware_04\"]\n",
    "client_logfiles = [\"client_01.log\"]\n",
    "warmup_period_endtime = 10\n",
    "cooldown_period_starttime = 72\n",
    "ping_logfile = \"client_ping_01.log\"\n",
    "outdir = \"./graphs\"\n",
    "experiment_label = \"exp3_1\"\n",
    "ylim=125\n",
    "num_threads=2\n",
    "workload = \"readOnly\"\n",
    "fig, axes = plt.subplots(1,4, sharey=True, figsize=(11, 4))\n",
    "queuelen.graph_queuelength([8,16,32,64], 8, num_threads, workload, middlewares, [1,2,3], inputdir, ylim,axes[0])\n",
    "queuelen.graph_queuelength([8,16,32,64], 16, num_threads, workload, middlewares, [1,2,3], inputdir, ylim,axes[1])\n",
    "queuelen.graph_queuelength([8,16,32,64], 32, num_threads, workload, middlewares, [1,2,3], inputdir, ylim,axes[2])\n",
    "queuelen.graph_queuelength([8,16,32,64], 64, num_threads, workload, middlewares, [1,2,3], inputdir, ylim,axes[3])\n",
    "fig.tight_layout()\n",
    "plt.show()\n",
    "\n",
    "fig.savefig(os.path.join(outdir, experiment_label, \"averageQueueLength_{}.png\".format(workload)), dpi=300)"
   ]
  },
  {
   "cell_type": "code",
   "execution_count": null,
   "metadata": {
    "collapsed": true,
    "scrolled": true
   },
   "outputs": [],
   "source": [
    "## Drawing the response time break-down of a a few interesting configurations of writeOnly workload\n",
    "inputdir = exp3_1_inputdir\n",
    "worker_configs = [8, 16, 32, 64] # Provide worker configurations used\n",
    "vc_configs = [1, 8, 16, 32, 64, 96, 128, 160] # Provide vc configurations used\n",
    "reps = [1, 2, 3]\n",
    "middlewares = [\"middleware_04\"]\n",
    "client_logfiles = [\"client_01.log\"]\n",
    "warmup_period_endtime = 10\n",
    "cooldown_period_starttime = 72\n",
    "ping_logfile = \"client_ping_01.log\"\n",
    "outdir = \"./graphs\"\n",
    "experiment_label = \"exp3_1\"\n",
    "xlim=12.5\n",
    "num_threads=2\n",
    "\n",
    "fig, axes = plt.subplots(1,4, sharey=True, figsize=(15, 4))\n",
    "resptime.graph_responsetime(8, 32, num_threads, \"writeOnly\", middlewares, client_logfiles, reps, inputdir, xlim, axes[0])\n",
    "resptime.graph_responsetime(64, 32, num_threads, \"writeOnly\", middlewares, client_logfiles, reps, inputdir, xlim, axes[1])\n",
    "\n",
    "resptime.graph_responsetime(8, 64, num_threads, \"writeOnly\", middlewares, client_logfiles, reps, inputdir, xlim, axes[2])\n",
    "resptime.graph_responsetime(64, 64, num_threads, \"writeOnly\", middlewares, client_logfiles, reps, inputdir, xlim, axes[3])\n",
    "fig.tight_layout()\n",
    "plt.show()\n",
    "\n",
    "fig.savefig(os.path.join(outdir, experiment_label, \"3_1_responseTimeBreakDown_writeOnly.png\"), dpi=300)"
   ]
  }
 ],
 "metadata": {
  "kernelspec": {
   "display_name": "Python 3",
   "language": "python",
   "name": "python3"
  },
  "language_info": {
   "codemirror_mode": {
    "name": "ipython",
    "version": 3
   },
   "file_extension": ".py",
   "mimetype": "text/x-python",
   "name": "python",
   "nbconvert_exporter": "python",
   "pygments_lexer": "ipython3",
   "version": "3.6.3"
  }
 },
 "nbformat": 4,
 "nbformat_minor": 2
}
