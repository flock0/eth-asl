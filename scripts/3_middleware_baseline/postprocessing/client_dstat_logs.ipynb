{
 "cells": [
  {
   "cell_type": "code",
   "execution_count": null,
   "metadata": {
    "collapsed": true
   },
   "outputs": [],
   "source": [
    "import os\n",
    "import pandas as pd\n",
    "import datetime\n",
    "import matplotlib.pyplot as plt\n",
    "from cycler import cycler"
   ]
  },
  {
   "cell_type": "code",
   "execution_count": null,
   "metadata": {
    "collapsed": true
   },
   "outputs": [],
   "source": [
    "time_format = '%d-%m %H:%M:%S'\n",
    "def read_single_dstat(inputdir, rep, dstat_filename, truncate_sec):\n",
    "    # create filepath\n",
    "    filepath = os.path.join(inputdir, str(rep), dstat_filename)\n",
    "    csv_file = pd.read_csv(filepath, header=3)\n",
    "    \n",
    "    start_time = csv_file['time'].min()\n",
    "    end_time = csv_file['time'].max()\n",
    "    parsed_start_time = datetime.datetime.strptime(start_time, time_format)\n",
    "    parsed_end_time = datetime.datetime.strptime(end_time, time_format)\n",
    "    truncated_start_time = parsed_start_time + datetime.timedelta(0,truncate_sec)\n",
    "    truncated_end_time = parsed_end_time - datetime.timedelta(0,truncate_sec)\n",
    "    truncated_start_string = truncated_start_time.strftime(time_format)\n",
    "    truncated_end_string = truncated_end_time.strftime(time_format)\n",
    "    \n",
    "    truncated_data = csv_file[(csv_file['time'] >= truncated_start_string) & (csv_file['time'] <= truncated_end_string)]\n",
    "    \n",
    "    excerp = truncated_data.loc[:, ['idl', 'recv', 'send']]\n",
    "    means = excerp.mean()\n",
    "    means['load'] = 100 - means['idl']\n",
    "    \n",
    "    return means"
   ]
  },
  {
   "cell_type": "code",
   "execution_count": null,
   "metadata": {
    "collapsed": true
   },
   "outputs": [],
   "source": [
    "def read_dstat_all_reps(inputdir, reps, dstat_filename, truncate_sec):\n",
    "    all_reps = [read_single_dstat(inputdir, rep, dstat_filename, truncate_sec) for rep in range(1, reps+1)]\n",
    "    result = pd.concat(all_reps, axis='columns').mean(axis='columns')\n",
    "    return result"
   ]
  },
  {
   "cell_type": "code",
   "execution_count": null,
   "metadata": {
    "collapsed": true
   },
   "outputs": [],
   "source": [
    "def read_dstat_all_clients(inputdir, reps, dstat_filenames, truncate_sec):\n",
    "    all_clients = [read_dstat_all_reps(inputdir, reps, filename, truncate_sec) for filename in dstat_filenames]\n",
    "    result = pd.concat(all_clients, axis='columns')\n",
    "    return result"
   ]
  },
  {
   "cell_type": "code",
   "execution_count": null,
   "metadata": {
    "collapsed": true
   },
   "outputs": [],
   "source": [
    "def mean_dstat_clients(data, mean_columns):\n",
    "    return data.loc[mean_columns, :].mean(axis='columns')\n",
    "\n",
    "def sum_dstat_clients(data, sum_columns):\n",
    "    return data.loc[sum_columns, :].sum(axis='columns')\n",
    "\n",
    "def aggregate_dstat_all_clients(inputdir, reps, dstat_filenames, truncate_sec):\n",
    "    data = read_dstat_all_clients(inputdir, reps, dstat_filenames, truncate_sec)\n",
    "    means = mean_dstat_clients(data, ['load'])\n",
    "    sums = sum_dstat_clients(data, ['recv', 'send'])\n",
    "    return pd.concat([means, sums])"
   ]
  },
  {
   "cell_type": "code",
   "execution_count": null,
   "metadata": {
    "collapsed": true
   },
   "outputs": [],
   "source": []
  },
  {
   "cell_type": "code",
   "execution_count": null,
   "metadata": {},
   "outputs": [],
   "source": [
    "experiment_dir = \"\" # 3.1 experiment dir\n",
    "workload = \"writeOnly\"\n",
    "vcs = [1, 8, 16, 32, 64, 96, 128, 160]\n",
    "workers = [8, 16, 32, 64]\n",
    "dstat_filenames = [\"client_dstat_01.log\"]\n",
    "reps = 3\n",
    "truncate_sec = 10\n",
    "num_threads = 2\n",
    "\n",
    "all_metrics = []\n",
    "for vc in vcs:\n",
    "    for worker in workers:\n",
    "        inputdir = os.path.join(experiment_dir, \"{}_{}vc{}workers\".format(workload, vc, worker))\n",
    "        metrics = aggregate_dstat_all_clients(inputdir, reps, dstat_filenames, truncate_sec)\n",
    "        metrics['num_clients'] = vc * num_threads\n",
    "        metrics['workers'] = worker\n",
    "        all_metrics.append(metrics)\n",
    "nice_table = pd.concat(all_metrics, axis=1).transpose()\n",
    "nice_table['recv'] = nice_table['recv'] / 1000000\n",
    "nice_table['send'] = nice_table['send'] / 1000000\n",
    "\n",
    "fig, ax = plt.subplots()\n",
    "color_cycler = cycler('color', ['#ccece6', '#66c2a4', '#238b45', '#00441b'])\n",
    "ax.set_ylim([0, 30])\n",
    "ax.set_xlim([0, 350])\n",
    "ax.set_prop_cycle(color_cycler)\n",
    "for key, grp in nice_table.groupby(['workers']):\n",
    "    grp.plot(ax=ax, x='num_clients', y='send', label=\"{} workers\".format(int(key)), marker='o')\n",
    "    plt.xticks(grp['num_clients'])\n",
    "plt.axhline(y=25.38,hold=None, color='r')\n",
    "ax.legend(loc=\"best\", fontsize=\"small\")\n",
    "ax.set_title(\"Send network activity of the memtier VM\")\n",
    "ax.set_xlabel(\"Number of clients\")\n",
    "ax.set_ylabel(\"Send Throughput (MB/s)\")\n",
    "\n",
    "plt.show()\n",
    "fig.savefig(\"./graphs/exp3_1/memtier_Send.png\", dpi=300)\n",
    "\n"
   ]
  },
  {
   "cell_type": "code",
   "execution_count": null,
   "metadata": {
    "scrolled": true
   },
   "outputs": [],
   "source": [
    "experiment_dir = \"\" # 3.2 experiment dir\n",
    "workload = \"readOnly\"\n",
    "vcs = [1, 8, 16, 32, 64, 96, 128, 160]\n",
    "workers = [8, 16, 32, 64]\n",
    "dstat_filenames = [\"client_dstat_01.log\"]\n",
    "reps = 3\n",
    "truncate_sec = 10\n",
    "num_threads = 2\n",
    "\n",
    "all_metrics = []\n",
    "for vc in vcs:\n",
    "    for worker in workers:\n",
    "        inputdir = os.path.join(experiment_dir, \"{}_{}vc{}workers\".format(workload, vc, worker))\n",
    "        metrics = aggregate_dstat_all_clients(inputdir, reps, dstat_filenames, truncate_sec)\n",
    "        metrics['num_clients'] = vc * num_threads\n",
    "        metrics['workers'] = worker\n",
    "        all_metrics.append(metrics)\n",
    "nice_table = pd.concat(all_metrics, axis=1).transpose()\n",
    "nice_table['recv'] = nice_table['recv'] / 1000000\n",
    "nice_table['send'] = nice_table['send'] / 1000000\n",
    "\n",
    "fig, ax = plt.subplots()\n",
    "color_cycler = cycler('color', ['#ccece6', '#66c2a4', '#238b45', '#00441b'])\n",
    "ax.set_ylim([0, 30])\n",
    "ax.set_xlim([0, 350])\n",
    "ax.set_prop_cycle(color_cycler)\n",
    "for key, grp in nice_table.groupby(['workers']):\n",
    "    grp.plot(ax=ax, x='num_clients', y='send', label=\"{} workers\".format(int(key)), marker='o')\n",
    "    plt.xticks(grp['num_clients'])\n",
    "plt.axhline(y=25.38,hold=None, color='r')\n",
    "ax.legend(loc=\"best\", fontsize=\"small\")\n",
    "ax.set_title(\"Send network activity of the memtier VM\")\n",
    "ax.set_xlabel(\"Number of clients\")\n",
    "ax.set_ylabel(\"Send Throughput (MB/s)\")\n",
    "\n",
    "plt.show()\n",
    "fig.savefig(\"./graphs/exp3_1/memtier_Send.png\", dpi=300)\n",
    "\n"
   ]
  },
  {
   "cell_type": "code",
   "execution_count": null,
   "metadata": {
    "collapsed": true
   },
   "outputs": [],
   "source": []
  }
 ],
 "metadata": {
  "kernelspec": {
   "display_name": "Python 3",
   "language": "python",
   "name": "python3"
  },
  "language_info": {
   "codemirror_mode": {
    "name": "ipython",
    "version": 3
   },
   "file_extension": ".py",
   "mimetype": "text/x-python",
   "name": "python",
   "nbconvert_exporter": "python",
   "pygments_lexer": "ipython3",
   "version": "3.6.3"
  }
 },
 "nbformat": 4,
 "nbformat_minor": 2
}
