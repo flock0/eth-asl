{
 "cells": [
  {
   "cell_type": "code",
   "execution_count": null,
   "metadata": {
    "collapsed": true
   },
   "outputs": [],
   "source": [
    "import graph_responsetime as resptime\n",
    "import matplotlib.pyplot as plt\n",
    "\n",
    "## Drawing the response time break-down of a a few interesting configurations of readOnly workload\n",
    "inputdir = \"\" # 3.1 experiment dir\n",
    "worker_configs = [8, 16, 32, 64]\n",
    "vc_configs = [1, 8, 16, 32, 64, 96, 128, 160] # Provide vc configurations used\n",
    "reps = [1, 2, 3]\n",
    "middlewares = [\"middleware_04\"]\n",
    "client_logfiles = [\"client_01.log\"]\n",
    "warmup_period_endtime = 10\n",
    "cooldown_period_starttime = 72\n",
    "num_threads=2\n",
    "workload = \"readOnly\"\n",
    "\n",
    "all_worker_data = [resptime.get_responsetime_data_old(worker, vc_configs, num_threads, workload, middlewares, client_logfiles, reps, inputdir)for worker in worker_configs]"
   ]
  },
  {
   "cell_type": "code",
   "execution_count": null,
   "metadata": {
    "collapsed": true
   },
   "outputs": [],
   "source": [
    "fig, axes = plt.subplots(1, 4, sharey=True, figsize=(15,4))\n",
    "ylim = 9\n",
    "print_first_n_bars = 4\n",
    "for idx, worker in enumerate(worker_configs):\n",
    "    resptime.plot_stacked_barchart(all_worker_data[idx], [vc*num_threads for vc in vc_configs], worker, axes[idx], ylim, print_first_n_bars)\n",
    "    if idx != 0:\n",
    "        axes[idx].get_legend().remove()\n",
    "plt.tight_layout()\n",
    "plt.show()\n",
    "fig.savefig(\"./graphs/exp3_1/responseTimeBreakDown_{}.png\".format(workload), dpi=300)"
   ]
  },
  {
   "cell_type": "code",
   "execution_count": null,
   "metadata": {
    "collapsed": true
   },
   "outputs": [],
   "source": [
    "workload = \"writeOnly\"\n",
    "\n",
    "all_worker_data = [resptime.get_responsetime_data_old(worker, vc_configs, num_threads, workload, middlewares, client_logfiles, reps, inputdir)for worker in worker_configs]\n",
    "\n",
    "fig, axes = plt.subplots(1, 4, sharey=True, figsize=(15,4))\n",
    "ylim = 9\n",
    "print_first_n_bars = 5\n",
    "for idx, worker in enumerate(worker_configs):\n",
    "    resptime.plot_stacked_barchart(all_worker_data[idx], [vc*num_threads for vc in vc_configs], worker, axes[idx], ylim, print_first_n_bars)\n",
    "    if idx != 0:\n",
    "        axes[idx].get_legend().remove()\n",
    "plt.tight_layout()\n",
    "plt.show()\n",
    "fig.savefig(\"./graphs/exp3_1/responseTimeBreakDown_{}.png\".format(workload), dpi=300)"
   ]
  },
  {
   "cell_type": "code",
   "execution_count": null,
   "metadata": {
    "collapsed": true,
    "scrolled": true
   },
   "outputs": [],
   "source": [
    "import graph_responsetime as resptime\n",
    "import matplotlib.pyplot as plt\n",
    "\n",
    "## Drawing the response time break-down of a a few interesting configurations of readOnly workload\n",
    "inputdir = \"\" # 3.2 experiment dir\n",
    "worker_configs = [8, 16, 32, 64]\n",
    "vc_configs = [1, 8, 16, 32, 64, 96, 128, 160] # Provide vc configurations used\n",
    "reps = [1, 2, 3]\n",
    "middlewares = [\"middleware_04\", \"middleware_05\"]\n",
    "client_logfiles = [\"client_01_0.log\", \"client_01_1.log\"]\n",
    "warmup_period_endtime = 10\n",
    "cooldown_period_starttime = 72\n",
    "num_threads=4\n",
    "workload = \"writeOnly\"\n",
    "\n",
    "all_worker_data = [resptime.get_responsetime_data(worker, vc_configs, num_threads, workload, middlewares, client_logfiles, reps, inputdir)for worker in worker_configs]"
   ]
  },
  {
   "cell_type": "code",
   "execution_count": null,
   "metadata": {
    "collapsed": true,
    "scrolled": true
   },
   "outputs": [],
   "source": [
    "fig, axes = plt.subplots(1, 4, sharey=True, figsize=(15,4))\n",
    "ylim = 10\n",
    "num_threads=2\n",
    "print_first_n_bars = 5\n",
    "for idx, worker in enumerate(worker_configs):\n",
    "    resptime.plot_stacked_barchart(all_worker_data[idx], [vc*num_threads for vc in vc_configs], worker, axes[idx], ylim, print_first_n_bars)\n",
    "    if idx != 0:\n",
    "        axes[idx].get_legend().remove()\n",
    "plt.tight_layout()\n",
    "plt.show()\n",
    "fig.savefig(\"./graphs/exp3_2/responseTimeBreakDown_{}.png\".format(workload), dpi=300)"
   ]
  },
  {
   "cell_type": "code",
   "execution_count": null,
   "metadata": {},
   "outputs": [],
   "source": [
    "import graph_responsetime as resptime\n",
    "import matplotlib.pyplot as plt\n",
    "\n",
    "## Drawing the response time break-down of a a few interesting configurations of readOnly workload\n",
    "inputdir = \"\" # 3.2 re-run experiment dir\n",
    "worker_configs = [8, 16, 32, 64]\n",
    "vc_configs = [1, 8, 16, 32, 64, 96, 128, 160] # Provide vc configurations used\n",
    "reps = [1, 2, 3]\n",
    "middlewares = [\"middleware_04\", \"middleware_05\"]\n",
    "client_logfiles = [\"client_01_0.log\", \"client_01_1.log\", \"client_02_0.log\", \"client_02_1.log\"]\n",
    "warmup_period_endtime = 10\n",
    "cooldown_period_starttime = 72\n",
    "num_threads=4\n",
    "workload = \"writeOnly\"\n",
    "\n",
    "all_worker_data = [resptime.get_responsetime_data(worker, vc_configs, num_threads, workload, middlewares, client_logfiles, reps, inputdir)for worker in worker_configs]"
   ]
  },
  {
   "cell_type": "code",
   "execution_count": null,
   "metadata": {},
   "outputs": [],
   "source": [
    "fig, axes = plt.subplots(1, 4, sharey=True, figsize=(15,4))\n",
    "ylim = 50\n",
    "print_first_n_bars = 8\n",
    "for idx, worker in enumerate(worker_configs):\n",
    "    resptime.plot_stacked_barchart(all_worker_data[idx], [vc*num_threads for vc in vc_configs], worker, axes[idx], ylim, print_first_n_bars)\n",
    "    if idx != 0:\n",
    "        axes[idx].get_legend().remove()\n",
    "plt.tight_layout()\n",
    "plt.show()\n",
    "fig.savefig(\"./graphs/exp3_2_2/responseTimeBreakDown_{}.png\".format(workload), dpi=300)"
   ]
  }
 ],
 "metadata": {
  "kernelspec": {
   "display_name": "Python 3",
   "language": "python",
   "name": "python3"
  },
  "language_info": {
   "codemirror_mode": {
    "name": "ipython",
    "version": 3
   },
   "file_extension": ".py",
   "mimetype": "text/x-python",
   "name": "python",
   "nbconvert_exporter": "python",
   "pygments_lexer": "ipython3",
   "version": "3.6.3"
  }
 },
 "nbformat": 4,
 "nbformat_minor": 2
}
