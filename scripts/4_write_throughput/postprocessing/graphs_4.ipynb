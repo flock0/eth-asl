{
 "cells": [
  {
   "cell_type": "code",
   "execution_count": null,
   "metadata": {
    "collapsed": true
   },
   "outputs": [],
   "source": [
    "import gather_memtier_statistics as gmts\n",
    "import graph_xputresp_vs_vc as xput_vs_vc\n",
    "import graph_xput_vs_time as xput_vs_time\n",
    "import graph_responsetime as resptime\n",
    "import graph_queuelength as queuelen\n",
    "import summary_table as summ\n",
    "import matplotlib.pyplot as plt\n",
    "import os, sys"
   ]
  },
  {
   "cell_type": "code",
   "execution_count": null,
   "metadata": {
    "collapsed": true
   },
   "outputs": [],
   "source": [
    "exp4_dir = \"\" # 4 detailed run two - experiment dir"
   ]
  },
  {
   "cell_type": "code",
   "execution_count": null,
   "metadata": {
    "scrolled": true
   },
   "outputs": [],
   "source": [
    "# Experiment 4.2: Full setup, write only\n",
    "# Plot the throughput and response time measured in the middleware\n",
    "\n",
    "inputdir = exp4_dir\n",
    "experiment_label = \"exp4\"\n",
    "\n",
    "middlewares = [\"middleware_04\", \"middleware_05\"]\n",
    "client_logfiles = [\"client_01_0.log\", \"client_01_1.log\", \"client_02_0.log\", \"client_02_1.log\", \"client_03_0.log\", \"client_03_1.log\"]\n",
    "dir_suffix_regex_string = \"_\\d*vc\\d*workers\"\n",
    "warmup_period_endtime = 10\n",
    "cooldown_period_starttime = 72\n",
    "outdir = \"./graphs\"\n",
    "num_threads = 6\n",
    "ylim_xput = 30000\n",
    "ylim_resp = 60\n",
    "xlim = 420\n",
    "xput_vs_vc.create_workload_graphs(inputdir, experiment_label, \"writeOnly\", middlewares, client_logfiles, dir_suffix_regex_string, warmup_period_endtime, cooldown_period_starttime, outdir, num_threads, ylim_xput, ylim_resp, xlim)"
   ]
  },
  {
   "cell_type": "code",
   "execution_count": null,
   "metadata": {
    "collapsed": true,
    "scrolled": false
   },
   "outputs": [],
   "source": [
    "### Summary Table: Finding maximum throughput configuration\n",
    "# Maximum throughput for one middleware\n",
    "\n",
    "inputdir = exp4_dir\n",
    "workload = \"writeOnly\"\n",
    "workers = [8, 16, 32, 64]\n",
    "vc_configs = {8: [1, 4, 8],\n",
    "              16: [1, 4, 8, 12, 16],\n",
    "              32: [1, 4, 8, 12, 16, 20, 24],\n",
    "              64: [1, 4, 8, 12, 16, 20, 24, 32]}\n",
    "reps = 3\n",
    "middlewares = [\"middleware_04\", \"middleware_05\"]\n",
    "client_logfiles = [\"client_01_0.log\", \"client_01_1.log\", \"client_02_0.log\", \"client_02_1.log\", \"client_03_0.log\", \"client_03_1.log\"]\n",
    "ping_logfiles = [\"client_ping_01_0.log\", \"client_ping_01_1.log\", \"client_ping_02_0.log\", \"client_ping_02_1.log\", \"client_ping_03_0.log\", \"client_ping_03_1.log\"]\n",
    "warmup_period_endtime = 10\n",
    "cooldown_period_starttime = 72\n",
    "num_threads = 6\n",
    "\n",
    "for worker in workers:\n",
    "    vc, xput = summ.find_max_throughput(inputdir, workload, worker, vc_configs[worker], reps, client_logfiles, warmup_period_endtime, cooldown_period_starttime)\n",
    "    print(vc, xput)\n",
    "    thinktime_ms = summ.average_pings_over_reps(inputdir, workload, worker, vc, reps, ping_logfiles)\n",
    "    summ.extract_summary_from_config(inputdir, workload, worker, vc, reps, xput, thinktime_ms, num_threads, middlewares, warmup_period_endtime, cooldown_period_starttime)\n"
   ]
  },
  {
   "cell_type": "code",
   "execution_count": null,
   "metadata": {
    "collapsed": true,
    "scrolled": true
   },
   "outputs": [],
   "source": [
    "## Drawing the response time break-down of a a few interesting configurations of readOnly workload\n",
    "inputdir = exp4_dir\n",
    "worker_configs = [8, 16, 32, 64] # Provide worker configurations used\n",
    "vc_configs = [1, 4, 8, 12, 16, 20, 24, 32, 48, 64] # Provide vc configurations used\n",
    "reps = [1, 2, 3]\n",
    "middlewares = [\"middleware_04\", \"middleware_05\"]\n",
    "client_logfiles = [\"client_01_0.log\", \"client_01_1.log\", \"client_02_0.log\", \"client_02_1.log\", \"client_03_0.log\", \"client_03_1.log\"]\n",
    "warmup_period_endtime = 10\n",
    "cooldown_period_starttime = 72\n",
    "outdir = \"./graphs\"\n",
    "experiment_label = \"exp4\"\n",
    "xlim=12.5\n",
    "num_threads=6\n",
    "\n",
    "fig, axes = plt.subplots(1,4, sharey=True, figsize=(15, 4))\n",
    "resptime.graph_responsetime(8, 8, num_threads, \"writeOnly\", middlewares, client_logfiles, reps, inputdir, xlim, axes[0])\n",
    "resptime.graph_responsetime(16, 8, num_threads, \"writeOnly\", middlewares, client_logfiles, reps, inputdir, xlim, axes[1])\n",
    "\n",
    "resptime.graph_responsetime(32, 8, num_threads, \"writeOnly\", middlewares, client_logfiles, reps, inputdir, xlim, axes[2])\n",
    "resptime.graph_responsetime(64, 8, num_threads, \"writeOnly\", middlewares, client_logfiles, reps, inputdir, xlim, axes[3])\n",
    "fig.tight_layout()\n",
    "plt.show()\n",
    "\n",
    "fig.savefig(os.path.join(outdir, experiment_label, \"responseTimeBreakDown_writeOnly.png\"), dpi=300)"
   ]
  },
  {
   "cell_type": "code",
   "execution_count": null,
   "metadata": {
    "collapsed": true
   },
   "outputs": [],
   "source": [
    "## Drawing the response time break-down of a a few interesting configurations of writeOnly workload\n",
    "inputdir = exp3_2_rerun\n",
    "worker_configs = [8, 16, 32, 64] # Provide worker configurations used\n",
    "vc_configs = [1, 8, 16, 32, 64, 96, 128, 160] # Provide vc configurations used\n",
    "reps = [1, 2, 3]\n",
    "middlewares = [\"middleware_04\", \"middleware_05\"]\n",
    "client_logfiles = [\"client_01_0.log\", \"client_01_1.log\", \"client_02_0.log\", \"client_02_1.log\"]\n",
    "warmup_period_endtime = 10\n",
    "cooldown_period_starttime = 72\n",
    "ping_logfile = \"client_ping_01.log\"\n",
    "outdir = \"./graphs\"\n",
    "experiment_label = \"exp3_2_2\"\n",
    "xlim=30\n",
    "num_threads=4\n",
    "\n",
    "fig, axes = plt.subplots(1,4, sharey=True, figsize=(15, 4))\n",
    "resptime.graph_responsetime(8, 96, num_threads, \"writeOnly\", middlewares, client_logfiles, reps, inputdir, xlim, axes[0])\n",
    "resptime.graph_responsetime(16, 96, num_threads, \"writeOnly\", middlewares, client_logfiles, reps, inputdir, xlim, axes[1])\n",
    "\n",
    "resptime.graph_responsetime(32, 96, num_threads, \"writeOnly\", middlewares, client_logfiles, reps, inputdir, xlim, axes[2])\n",
    "resptime.graph_responsetime(64, 96, num_threads, \"writeOnly\", middlewares, client_logfiles, reps, inputdir, xlim, axes[3])\n",
    "fig.tight_layout()\n",
    "plt.show()\n",
    "\n",
    "fig.savefig(os.path.join(outdir, experiment_label, \"responseTimeBreakDown_writeOnly.png\"), dpi=300)"
   ]
  },
  {
   "cell_type": "code",
   "execution_count": null,
   "metadata": {
    "collapsed": true
   },
   "outputs": [],
   "source": [
    "inputdir = exp3_2_rerun\n",
    "worker_configs = [8, 16, 32, 64] # Provide worker configurations used\n",
    "vc_configs = [1, 8, 16, 32, 64, 96, 128, 160] # Provide vc configurations used\n",
    "reps = [1, 2, 3]\n",
    "middlewares = [\"middleware_04\", \"middleware_05\"]\n",
    "client_logfiles = [\"client_01_0.log\", \"client_01_1.log\", \"client_02_0.log\", \"client_02_1.log\"]\n",
    "warmup_period_endtime = 10\n",
    "cooldown_period_starttime = 72\n",
    "ping_logfile = \"client_ping_01.log\"\n",
    "outdir = \"./graphs\"\n",
    "experiment_label = \"exp3_2_2\"\n",
    "ylim=125\n",
    "num_threads=4\n",
    "\n",
    "fig, axes = plt.subplots(1,4, sharey=True, figsize=(11, 4))\n",
    "queuelen.graph_queuelength([8,16,32,64], 8, 4, \"writeOnly\", [\"middleware_04\", \"middleware_05\"], [1,2,3], \"/home/flo/Documents/eth-asl-final-experiment-data/exp3/3_2_rerun_twomt_2017-11-27_213817\", ylim,axes[0])\n",
    "queuelen.graph_queuelength([8,16,32,64], 16, 4, \"writeOnly\", [\"middleware_04\", \"middleware_05\"], [1,2,3], \"/home/flo/Documents/eth-asl-final-experiment-data/exp3/3_2_rerun_twomt_2017-11-27_213817\", ylim,axes[1])\n",
    "queuelen.graph_queuelength([8,16,32,64], 32, 4, \"writeOnly\", [\"middleware_04\", \"middleware_05\"], [1,2,3], \"/home/flo/Documents/eth-asl-final-experiment-data/exp3/3_2_rerun_twomt_2017-11-27_213817\", ylim,axes[2])\n",
    "queuelen.graph_queuelength([8,16,32,64], 64, 4, \"writeOnly\", [\"middleware_04\", \"middleware_05\"], [1,2,3], \"/home/flo/Documents/eth-asl-final-experiment-data/exp3/3_2_rerun_twomt_2017-11-27_213817\", ylim,axes[3])\n",
    "fig.tight_layout()\n",
    "plt.show()\n",
    "\n",
    "fig.savefig(os.path.join(outdir, experiment_label, \"averageQueueLength_writeOnly.png\"), dpi=300)"
   ]
  },
  {
   "cell_type": "code",
   "execution_count": null,
   "metadata": {
    "collapsed": true
   },
   "outputs": [],
   "source": [
    "### Drawing an experiment trace\n",
    "# Throughput from the Middleware and Memtier, as well as the responsetime from both machines\n",
    "\n",
    "inputdir = exp3_2_inputdir\n",
    "worker_configuration = [8,16,32,64]\n",
    "folder_prefix = \"writeOnly_32vc\"\n",
    "middlewares = [\"middleware_04\", \"middleware_05\"]\n",
    "client_logfiles = [\"client_01_0.log\", \"client_01_1.log\"]\n",
    "reps = [1,2,3]\n",
    "outdir = \"./graphs/exp3_2\"\n",
    "\n",
    "f, axes = plt.subplots(2, 2, sharex=True)\n",
    "xput_vs_time.plot_mw_metric_over_time(inputdir, worker_configuration, \"throughput_mw\", folder_prefix, reps, middlewares, axes[0,0])\n",
    "xput_vs_time.plot_mt_metric_over_time(inputdir, worker_configuration, \"throughput\", folder_prefix, reps, client_logfiles, axes[1,0])\n",
    "xput_vs_time.plot_mw_metric_over_time(inputdir, worker_configuration, \"responseTime_ms\", folder_prefix, reps, middlewares, axes[0,1])\n",
    "xput_vs_time.plot_mt_metric_over_time(inputdir, worker_configuration, \"responsetime\", folder_prefix, reps, client_logfiles, axes[1,1])\n",
    "plt.show()\n",
    "f.savefig(os.path.join(outdir, '{}_experiment_trace.png'.format(folder_prefix)),dpi=600)"
   ]
  }
 ],
 "metadata": {
  "kernelspec": {
   "display_name": "Python 3",
   "language": "python",
   "name": "python3"
  },
  "language_info": {
   "codemirror_mode": {
    "name": "ipython",
    "version": 3
   },
   "file_extension": ".py",
   "mimetype": "text/x-python",
   "name": "python",
   "nbconvert_exporter": "python",
   "pygments_lexer": "ipython3",
   "version": "3.6.3"
  }
 },
 "nbformat": 4,
 "nbformat_minor": 2
}
