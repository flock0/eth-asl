{
 "cells": [
  {
   "cell_type": "code",
   "execution_count": null,
   "metadata": {
    "collapsed": true
   },
   "outputs": [],
   "source": [
    "import gather_memtier_statistics as gmts\n",
    "import graph_xputresp_vs_multigets as xput_vs_multi\n",
    "import graph_xput_vs_time as xput_vs_time\n",
    "import graph_responsetime as resptime\n",
    "import graph_queuelength as queuelen\n",
    "import summary_table as summ\n",
    "import matplotlib.pyplot as plt\n",
    "import numpy as np\n",
    "import os, sys"
   ]
  },
  {
   "cell_type": "code",
   "execution_count": null,
   "metadata": {
    "collapsed": true
   },
   "outputs": [],
   "source": [
    "exp5_1_dir = \"\" # 5.1 sharded experiment dir\n",
    "exp5_2_dir = \"\" # 5.2 nonsharded experiment dir\n",
    "outdir = \"./graphs\""
   ]
  },
  {
   "cell_type": "code",
   "execution_count": null,
   "metadata": {
    "scrolled": true
   },
   "outputs": [],
   "source": [
    "# Experiment 5: MultiGets\n",
    "# Plot the throughput and response time measured in the middleware\n",
    "\n",
    "experiment_label = \"exp5\"\n",
    "\n",
    "middlewares = [\"middleware_04\", \"middleware_05\"]\n",
    "client_logfiles = [\"client_01_0.log\", \"client_01_1.log\", \"client_02_0.log\", \"client_02_1.log\", \"client_03_0.log\", \"client_03_1.log\"]\n",
    "dir_suffix_regex_string = \"_\\d*multiget\"\n",
    "warmup_period_endtime = 10\n",
    "cooldown_period_starttime = 72\n",
    "outdir = \"./graphs\"\n",
    "num_threads = 6\n",
    "ylim_xput = 18000\n",
    "ylim_resp = 2.5\n",
    "xlim = 10\n",
    "shard = xput_vs_multi.gather_data(exp5_1_dir, experiment_label, \"sharded\", middlewares, client_logfiles, dir_suffix_regex_string, warmup_period_endtime, cooldown_period_starttime, outdir, num_threads, ylim_xput, ylim_resp, xlim)\n",
    "nonshard = xput_vs_multi.gather_data(exp5_2_dir, experiment_label, \"nonsharded\", middlewares, client_logfiles, dir_suffix_regex_string, warmup_period_endtime, cooldown_period_starttime, outdir, num_threads, ylim_xput, ylim_resp, xlim)\n",
    "\n",
    "shard = shard.sort_values('multigetSize')\n",
    "\n",
    "\n",
    "nonshard = nonshard.sort_values('multigetSize')\n"
   ]
  },
  {
   "cell_type": "code",
   "execution_count": null,
   "metadata": {},
   "outputs": [],
   "source": [
    "## Response Time\n",
    "\n",
    "means_shard_resp = shard.loc['mean', 'responsetime']\n",
    "std_shard_resp = shard.loc['std', 'responsetime']\n",
    "\n",
    "means_nonshard_resp = nonshard.loc['mean', 'responsetime']\n",
    "std_nonshard_resp = nonshard.loc['std', 'responsetime']\n",
    "\n",
    "indices = np.arange(4)\n",
    "width = 0.35 \n",
    "fig, ax = plt.subplots()\n",
    "shard_bar = ax.bar(indices, means_shard_resp, width, color='#e31a1c', yerr=std_shard_resp)\n",
    "nonshard_bar = ax.bar(indices + width, means_nonshard_resp, width, color='#fed976', yerr=std_nonshard_resp)\n",
    "\n",
    "ax.legend((shard_bar[0], nonshard_bar[0]), ('Sharded', 'Non-Sharded'), loc='upper left')\n",
    "ax.set_xticks(indices + width / 2)\n",
    "ax.set_xticklabels(('1', '3', '6', '9'))\n",
    "ax.set_ylabel('GET Response Time (ms)')\n",
    "ax.set_xlabel('Number of keys in GETs')\n",
    "ax.set_title('Response Time (MT) vs. different MultiGET sizes')\n",
    "ax.set_ylim([0,2.5])\n",
    "\n",
    "plt.show()\n",
    "fig.savefig(os.path.join(outdir, experiment_label, \"responseTime_multigets.png\"), dpi=300)"
   ]
  },
  {
   "cell_type": "code",
   "execution_count": null,
   "metadata": {},
   "outputs": [],
   "source": [
    "## Request Throughput\n",
    "\n",
    "means_shard_xput = shard.loc['mean', 'throughput']\n",
    "std_shard_xput = shard.loc['std', 'throughput']\n",
    "\n",
    "means_nonshard_xput = nonshard.loc['mean', 'throughput']\n",
    "std_nonshard_xput = nonshard.loc['std', 'throughput']\n",
    "\n",
    "indices = np.arange(4)\n",
    "width = 0.35 \n",
    "fig, ax = plt.subplots()\n",
    "shard_bar = ax.bar(indices, means_shard_xput, width, color='#006d2c', yerr=std_shard_xput)\n",
    "nonshard_bar = ax.bar(indices + width, means_nonshard_xput, width, color='#66c2a4', yerr=std_nonshard_xput)\n",
    "\n",
    "ax.legend((shard_bar[0], nonshard_bar[0]), ('Sharded', 'Non-Sharded'), loc='upper right')\n",
    "ax.set_xticks(indices + width / 2)\n",
    "ax.set_xticklabels(('1', '3', '6', '9'))\n",
    "ax.set_ylabel('Throughput (op/s)')\n",
    "ax.set_xlabel('Number of keys in GETs')\n",
    "ax.set_title('Throughput (MT) vs. different MultiGET sizes')\n",
    "ax.set_ylim([0,11000])\n",
    "\n",
    "plt.show()\n",
    "fig.savefig(os.path.join(outdir, experiment_label, \"throughput_multigets.png\"), dpi=300)"
   ]
  },
  {
   "cell_type": "code",
   "execution_count": null,
   "metadata": {},
   "outputs": [],
   "source": [
    " ## Key Throughput\n",
    "\n",
    "shard['key_throughput'] = shard['throughput'] * shard['multigetSize']\n",
    "nonshard['key_throughput'] = nonshard['throughput'] * nonshard['multigetSize']\n",
    "\n",
    "means_shard_xput = shard.loc['mean', 'key_throughput']\n",
    "std_shard_xput = shard.loc['std', 'key_throughput']\n",
    "\n",
    "means_nonshard_xput = nonshard.loc['mean', 'key_throughput']\n",
    "std_nonshard_xput = nonshard.loc['std', 'key_throughput']\n",
    "\n",
    "indices = np.arange(4)\n",
    "width = 0.35 \n",
    "fig, ax = plt.subplots()\n",
    "shard_bar = ax.bar(indices, means_shard_xput, width, color='#4d004b', yerr=std_shard_xput)\n",
    "nonshard_bar = ax.bar(indices + width, means_nonshard_xput, width, color='#88419d', yerr=std_nonshard_xput)\n",
    "\n",
    "ax.legend((shard_bar[0], nonshard_bar[0]), ('Sharded', 'Non-Sharded'), loc='upper left')\n",
    "ax.set_xticks(indices + width / 2)\n",
    "ax.set_xticklabels(('1', '3', '6', '9'))\n",
    "ax.set_ylabel('Throughput (keys/s)')\n",
    "ax.set_xlabel('Number of keys in GETs')\n",
    "ax.set_title('Key Throughput (MT) vs. different MultiGET sizes')\n",
    "ax.set_ylim([0,70000])\n",
    "\n",
    "plt.show()\n",
    "fig.savefig(os.path.join(outdir, experiment_label, \"key_throughput_multigets.png\"), dpi=300)"
   ]
  },
  {
   "cell_type": "code",
   "execution_count": null,
   "metadata": {
    "scrolled": true
   },
   "outputs": [],
   "source": [
    "## Drawing the response time break-down of a a few interesting configurations of the sharded experiment\n",
    "reps = [1, 2, 3]\n",
    "middlewares = [\"middleware_04\", \"middleware_05\"]\n",
    "client_logfiles = [\"client_01_0.log\", \"client_01_1.log\", \"client_02_0.log\", \"client_02_1.log\", \"client_03_0.log\", \"client_03_1.log\"]\n",
    "warmup_period_endtime = 10\n",
    "cooldown_period_starttime = 72\n",
    "outdir = \"./graphs\"\n",
    "experiment_label = \"exp5\"\n",
    "xlim=2\n",
    "\n",
    "fig, axes = plt.subplots(1,4, sharey=True, figsize=(15, 4))\n",
    "resptime.graph_responsetime(1, \"sharded\", middlewares, client_logfiles, reps, exp5_1_dir, xlim, axes[0])\n",
    "resptime.graph_responsetime(3, \"sharded\", middlewares, client_logfiles, reps, exp5_1_dir, xlim, axes[1])\n",
    "\n",
    "resptime.graph_responsetime(6, \"sharded\", middlewares, client_logfiles, reps, exp5_1_dir, xlim, axes[2])\n",
    "resptime.graph_responsetime(9, \"sharded\", middlewares, client_logfiles, reps, exp5_1_dir, xlim, axes[3])\n",
    "fig.tight_layout()\n",
    "plt.show()\n",
    "\n",
    "fig.savefig(os.path.join(outdir, experiment_label, \"responseTimeBreakDown_sharded.png\"), dpi=300)"
   ]
  }
 ],
 "metadata": {
  "kernelspec": {
   "display_name": "Python 3",
   "language": "python",
   "name": "python3"
  },
  "language_info": {
   "codemirror_mode": {
    "name": "ipython",
    "version": 3
   },
   "file_extension": ".py",
   "mimetype": "text/x-python",
   "name": "python",
   "nbconvert_exporter": "python",
   "pygments_lexer": "ipython3",
   "version": "3.6.3"
  }
 },
 "nbformat": 4,
 "nbformat_minor": 2
}
