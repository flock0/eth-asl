{
 "cells": [
  {
   "cell_type": "code",
   "execution_count": null,
   "metadata": {
    "scrolled": true
   },
   "outputs": [],
   "source": [
    "import graph_responsetime as resptime\n",
    "import matplotlib.pyplot as plt\n",
    "\n",
    "## Drawing the response time break-down of a a few interesting configurations of readOnly workload\n",
    "sharded_configs = [(\"sharded\", \"\"), # 5.1 sharded experiment dir\n",
    "             (\"nonsharded\", \"\")]  # 5.2 nonsharded experiment dir\n",
    "multigets = [1, 3, 6, 9]\n",
    "reps = [1, 2, 3]\n",
    "middlewares = [\"middleware_04\", \"middleware_05\"]\n",
    "client_logfiles = [\"client_01_0.log\", \"client_01_1.log\", \"client_02_0.log\", \"client_02_1.log\", \"client_03_0.log\", \"client_03_1.log\"]\n",
    "warmup_period_endtime = 10\n",
    "cooldown_period_starttime = 72\n",
    "num_threads=6\n",
    "\n",
    "all_multiget_data = [resptime.get_responsetime_data_old(sharded, multigets, middlewares, client_logfiles, reps, inputdir)for sharded, inputdir in sharded_configs]"
   ]
  },
  {
   "cell_type": "code",
   "execution_count": null,
   "metadata": {
    "scrolled": false
   },
   "outputs": [],
   "source": [
    "fig, axes = plt.subplots(1, 2, sharey=True, figsize=(6,5))\n",
    "ylim = 3\n",
    "print_first_n_bars = 4\n",
    "for idx, tup in enumerate(sharded_configs):\n",
    "    resptime.plot_stacked_barchart(all_multiget_data[idx], multigets, tup[0], axes[idx], ylim, print_first_n_bars)\n",
    "    if idx != 0:\n",
    "        axes[idx].get_legend().remove()\n",
    "plt.tight_layout()\n",
    "plt.show()\n",
    "fig.savefig(\"./graphs/exp5/responseTimeBreakDown_multigets.png\", dpi=300)"
   ]
  },
  {
   "cell_type": "code",
   "execution_count": null,
   "metadata": {
    "scrolled": true
   },
   "outputs": [],
   "source": [
    "import graph_responsetime as resptime\n",
    "import matplotlib.pyplot as plt\n",
    "\n",
    "## Drawing the response time break-down of a a few interesting configurations of readOnly workload\n",
    "sharded_configs = [(\"sharded\", \"\"), # 5.1 sharded experiment dir\n",
    "             (\"nonsharded\", \"\")]  # 5.2 nonsharded experiment dir\n",
    "multigets = [6]\n",
    "reps = [1, 2, 3]\n",
    "middlewares = [\"middleware_04\", \"middleware_05\"]\n",
    "client_logfiles = [\"client_01_0.log\", \"client_01_1.log\", \"client_02_0.log\", \"client_02_1.log\", \"client_03_0.log\", \"client_03_1.log\"]\n",
    "warmup_period_endtime = 10\n",
    "cooldown_period_starttime = 72\n",
    "num_threads=6\n",
    "\n",
    "mw1_sharded_data = [resptime.get_responsetime_data_old(sharded, multigets, [\"middleware_04\"], client_logfiles, reps, inputdir)for sharded, inputdir in sharded_configs]\n",
    "mw2_sharded_data = [resptime.get_responsetime_data_old(sharded, multigets, [\"middleware_05\"], client_logfiles, reps, inputdir)for sharded, inputdir in sharded_configs]"
   ]
  },
  {
   "cell_type": "code",
   "execution_count": null,
   "metadata": {},
   "outputs": [],
   "source": [
    "print(\"Sharded: MW1 faster than MW2: {}ms\".format(mw2_sharded_data[0].memcachedRTT_ms - mw1_sharded_data[0].memcachedRTT_ms))\n",
    "print(\"Non-Sharded: MW1 faster than MW2: {}ms\".format(mw2_sharded_data[1].memcachedRTT_ms - mw1_sharded_data[1].memcachedRTT_ms))"
   ]
  },
  {
   "cell_type": "code",
   "execution_count": null,
   "metadata": {},
   "outputs": [],
   "source": [
    "import graph_responsetime as resptime\n",
    "import matplotlib.pyplot as plt\n",
    "\n",
    "## Drawing the response time break-down of a a few interesting configurations of readOnly workload\n",
    "sharded_configs = [(\"sharded\", \"\"), # 5.1 sharded experiment dir\n",
    "             (\"nonsharded\", \"\")]  # 5.2 nonsharded experiment dir\n",
    "multigets = [6]\n",
    "reps = [1, 2, 3]\n",
    "middlewares = [\"middleware_04\", \"middleware_05\"]\n",
    "client_logfiles = [\"client_01_0.log\", \"client_01_1.log\", \"client_02_0.log\", \"client_02_1.log\", \"client_03_0.log\", \"client_03_1.log\"]\n",
    "warmup_period_endtime = 10\n",
    "cooldown_period_starttime = 72\n",
    "num_threads=6\n",
    "\n",
    "combined_middleware_data = [resptime.get_responsetime_data_old(sharded, multigets, middlewares, client_logfiles, reps, inputdir)for sharded, inputdir in sharded_configs]"
   ]
  },
  {
   "cell_type": "code",
   "execution_count": null,
   "metadata": {},
   "outputs": [],
   "source": [
    "print(\"Sharded pre: {}ms, post: {}ms, combined: {}ms\".format(combined_middleware_data[0].workerPreProcessingTime_ms, combined_middleware_data[0].workerPostProcessingTime_ms, combined_middleware_data[0].workerPreProcessingTime_ms + combined_middleware_data[0].workerPostProcessingTime_ms))\n",
    "print(\"Non-Sharded pre: {}ms, post: {}ms, combined: {}ms\".format(combined_middleware_data[1].workerPreProcessingTime_ms, combined_middleware_data[1].workerPostProcessingTime_ms, combined_middleware_data[1].workerPreProcessingTime_ms + combined_middleware_data[1].workerPostProcessingTime_ms))"
   ]
  }
 ],
 "metadata": {
  "kernelspec": {
   "display_name": "Python 3",
   "language": "python",
   "name": "python3"
  },
  "language_info": {
   "codemirror_mode": {
    "name": "ipython",
    "version": 3
   },
   "file_extension": ".py",
   "mimetype": "text/x-python",
   "name": "python",
   "nbconvert_exporter": "python",
   "pygments_lexer": "ipython3",
   "version": "3.6.3"
  }
 },
 "nbformat": 4,
 "nbformat_minor": 2
}
