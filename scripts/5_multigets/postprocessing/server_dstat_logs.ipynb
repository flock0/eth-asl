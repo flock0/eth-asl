{
 "cells": [
  {
   "cell_type": "code",
   "execution_count": 1,
   "metadata": {
    "collapsed": true
   },
   "outputs": [],
   "source": [
    "import os\n",
    "import pandas as pd\n",
    "import datetime\n",
    "import matplotlib.pyplot as plt\n",
    "from cycler import cycler"
   ]
  },
  {
   "cell_type": "code",
   "execution_count": 2,
   "metadata": {
    "collapsed": true
   },
   "outputs": [],
   "source": [
    "time_format = '%d-%m %H:%M:%S'\n",
    "def extract_startend_times(inputdir, rep, dstat_filename, truncate_sec):\n",
    "    # create filepath\n",
    "    filepath = os.path.join(inputdir, str(rep), dstat_filename)\n",
    "    csv_file = pd.read_csv(filepath, header=3)\n",
    "    \n",
    "    start_time = csv_file['time'].min()\n",
    "    end_time = csv_file['time'].max()\n",
    "    parsed_start_time = datetime.datetime.strptime(start_time, time_format)\n",
    "    parsed_end_time = datetime.datetime.strptime(end_time, time_format)\n",
    "    truncated_start_time = parsed_start_time + datetime.timedelta(0,truncate_sec)\n",
    "    truncated_end_time = parsed_end_time - datetime.timedelta(0,truncate_sec)\n",
    "    truncated_start_string = truncated_start_time.strftime(time_format)\n",
    "    truncated_end_string = truncated_end_time.strftime(time_format)\n",
    "    return (truncated_start_string, truncated_end_string)"
   ]
  },
  {
   "cell_type": "code",
   "execution_count": null,
   "metadata": {
    "collapsed": true
   },
   "outputs": [],
   "source": []
  },
  {
   "cell_type": "code",
   "execution_count": 3,
   "metadata": {
    "collapsed": true
   },
   "outputs": [],
   "source": [
    "def read_dstat_from_server(experiment_dir, server_dstat_filename, startend_times_tuple):\n",
    "    start_string = startend_times_tuple[0]\n",
    "    end_string = startend_times_tuple[1]\n",
    "    \n",
    "    filepath = os.path.join(experiment_dir, server_dstat_filename)\n",
    "    csv_file = pd.read_csv(filepath, header=3)\n",
    "    \n",
    "    truncated_data = csv_file[(csv_file['time'] >= start_string) & (csv_file['time'] <= end_string)]\n",
    "    \n",
    "    excerp = truncated_data.loc[:, ['idl', 'recv', 'send']]\n",
    "    means = excerp.mean()\n",
    "    means['load'] = 100 - means['idl']\n",
    "    \n",
    "    return means"
   ]
  },
  {
   "cell_type": "code",
   "execution_count": 4,
   "metadata": {
    "collapsed": true
   },
   "outputs": [],
   "source": [
    "def read_server_dstat_all_reps(experiment_dir, reps, client_dstat_filename, server_dstat_filename, truncate_sec):\n",
    "    rep_time_tuples = [extract_startend_times(inputdir, rep, client_dstat_filename, truncate_sec) for rep in range(1, reps+1)]\n",
    "    all_reps = [read_dstat_from_server(experiment_dir, server_dstat_filename, tup) for tup in rep_time_tuples]\n",
    "    result = pd.concat(all_reps, axis='columns').mean(axis='columns')\n",
    "    return result"
   ]
  },
  {
   "cell_type": "code",
   "execution_count": 5,
   "metadata": {
    "collapsed": true
   },
   "outputs": [],
   "source": [
    "def read_server_dstat_all_reps_noavg(experiment_dir, reps, client_dstat_filename, server_dstat_filename, truncate_sec):\n",
    "    rep_time_tuples = [extract_startend_times(inputdir, rep, client_dstat_filename, truncate_sec) for rep in range(1, reps+1)]\n",
    "    all_reps = [read_dstat_from_server(experiment_dir, server_dstat_filename, tup) for tup in rep_time_tuples]\n",
    "    result = pd.concat(all_reps, axis='columns')\n",
    "    return result"
   ]
  },
  {
   "cell_type": "code",
   "execution_count": 6,
   "metadata": {
    "collapsed": true
   },
   "outputs": [],
   "source": [
    "def read_dstat_all_servers(experiment_dir, reps, client_dstat_filename, server_dstat_filenames, truncate_sec):\n",
    "    all_servers = [read_server_dstat_all_reps(experiment_dir, reps, client_dstat_filename, filename, truncate_sec) for filename in server_dstat_filenames]\n",
    "    result = pd.concat(all_servers, axis='columns')\n",
    "    return result"
   ]
  },
  {
   "cell_type": "code",
   "execution_count": null,
   "metadata": {
    "collapsed": true
   },
   "outputs": [],
   "source": []
  },
  {
   "cell_type": "code",
   "execution_count": 7,
   "metadata": {
    "collapsed": true
   },
   "outputs": [],
   "source": [
    "def mean_dstat_servers(data, mean_columns):\n",
    "    return data.loc[mean_columns, :].mean(axis='columns')\n",
    "\n",
    "def sum_dstat_servers(data, sum_columns):\n",
    "    return data.loc[sum_columns, :].sum(axis='columns')\n",
    "\n",
    "def aggregate_dstat_all_servers(experiment_dir, reps, dstat_filename, server_dstat_filenames, truncate_sec):\n",
    "    data = read_dstat_all_servers(experiment_dir, reps, dstat_filename, server_dstat_filenames, truncate_sec)\n",
    "    means = mean_dstat_servers(data, ['load'])\n",
    "    sums = sum_dstat_servers(data, ['recv', 'send'])\n",
    "    return pd.concat([means, sums])"
   ]
  },
  {
   "cell_type": "code",
   "execution_count": 30,
   "metadata": {
    "scrolled": true
   },
   "outputs": [],
   "source": [
    "experiment_dir = \"/home/flo/Documents/eth-asl-final-experiment-data/exp5/5_2_multigets_nonsharded_2017-11-24_092308\"\n",
    "sharded = \"nonsharded\"\n",
    "#experiment_dir = \"/home/flo/Documents/eth-asl-final-experiment-data/exp5/5_1_multigets_sharded_2017-11-24_085912\"\n",
    "#sharded = \"sharded\"\n",
    "\n",
    "multigets = [1, 3, 6, 9]\n",
    "\n",
    "dstat_filename = \"client_dstat_01.log\"\n",
    "server_dstat_filenames = [\"server_dstat_06.log\", \"server_dstat_07.log\"]\n",
    "reps = 3\n",
    "truncate_sec = 5\n",
    "\n",
    "all_metrics = []\n",
    "for multiget in multigets:\n",
    "    inputdir = os.path.join(experiment_dir, \"{}_{}multiget\".format(sharded, multiget))\n",
    "    single_metrics = read_dstat_all_servers(experiment_dir, reps, dstat_filename, server_dstat_filenames, truncate_sec)\n",
    "    metrics = aggregate_dstat_all_servers(experiment_dir, reps, dstat_filename, server_dstat_filenames, truncate_sec)\n",
    "    metrics['multigets'] = multiget\n",
    "    all_metrics.append(metrics)\n",
    "agg_table = pd.concat(all_metrics, axis=1).transpose()\n",
    "agg_table['recv'] = agg_table['recv'] / 1000000\n",
    "agg_table['send'] = agg_table['send'] / 1000000\n"
   ]
  },
  {
   "cell_type": "code",
   "execution_count": 32,
   "metadata": {},
   "outputs": [
    {
     "data": {
      "text/html": [
       "<div>\n",
       "<style scoped>\n",
       "    .dataframe tbody tr th:only-of-type {\n",
       "        vertical-align: middle;\n",
       "    }\n",
       "\n",
       "    .dataframe tbody tr th {\n",
       "        vertical-align: top;\n",
       "    }\n",
       "\n",
       "    .dataframe thead th {\n",
       "        text-align: right;\n",
       "    }\n",
       "</style>\n",
       "<table border=\"1\" class=\"dataframe\">\n",
       "  <thead>\n",
       "    <tr style=\"text-align: right;\">\n",
       "      <th></th>\n",
       "      <th>load</th>\n",
       "      <th>recv</th>\n",
       "      <th>send</th>\n",
       "      <th>multigets</th>\n",
       "    </tr>\n",
       "  </thead>\n",
       "  <tbody>\n",
       "    <tr>\n",
       "      <th>0</th>\n",
       "      <td>16.213876</td>\n",
       "      <td>9.313782</td>\n",
       "      <td>3.569832</td>\n",
       "      <td>1.0</td>\n",
       "    </tr>\n",
       "    <tr>\n",
       "      <th>1</th>\n",
       "      <td>17.683824</td>\n",
       "      <td>9.216530</td>\n",
       "      <td>8.925204</td>\n",
       "      <td>3.0</td>\n",
       "    </tr>\n",
       "    <tr>\n",
       "      <th>2</th>\n",
       "      <td>18.100713</td>\n",
       "      <td>9.251822</td>\n",
       "      <td>16.696597</td>\n",
       "      <td>6.0</td>\n",
       "    </tr>\n",
       "    <tr>\n",
       "      <th>3</th>\n",
       "      <td>18.325403</td>\n",
       "      <td>8.669164</td>\n",
       "      <td>22.591056</td>\n",
       "      <td>9.0</td>\n",
       "    </tr>\n",
       "  </tbody>\n",
       "</table>\n",
       "</div>"
      ],
      "text/plain": [
       "        load      recv       send  multigets\n",
       "0  16.213876  9.313782   3.569832        1.0\n",
       "1  17.683824  9.216530   8.925204        3.0\n",
       "2  18.100713  9.251822  16.696597        6.0\n",
       "3  18.325403  8.669164  22.591056        9.0"
      ]
     },
     "execution_count": 32,
     "metadata": {},
     "output_type": "execute_result"
    }
   ],
   "source": [
    "agg_table"
   ]
  },
  {
   "cell_type": "code",
   "execution_count": 31,
   "metadata": {},
   "outputs": [
    {
     "data": {
      "image/png": "[encoded data removed]",
      "text/plain": [
       "<matplotlib.figure.Figure at 0x7f676efd85f8>"
      ]
     },
     "metadata": {},
     "output_type": "display_data"
    }
   ],
   "source": [
    "\n",
    "fig, ax = plt.subplots()\n",
    "color_cycler = cycler('color', ['#ccece6', '#66c2a4', '#238b45', '#00441b'])\n",
    "ax.set_ylim([0, 30])\n",
    "#ax.set_xlim([0, 400])\n",
    "ax.set_prop_cycle(color_cycler)\n",
    "agg_table.plot(ax=ax, x='multigets', y='load', marker='o')\n",
    "#plt.xticks(multigets)\n",
    "ax.legend(loc=\"best\", fontsize=\"small\")\n",
    "ax.set_xlabel(\"Number of clients\")\n",
    "ax.set_ylabel(\"Throughput (MB/s)\")\n",
    "\n",
    "plt.show()"
   ]
  },
  {
   "cell_type": "code",
   "execution_count": 52,
   "metadata": {
    "scrolled": true
   },
   "outputs": [
    {
     "data": {
      "image/png": "[encoded data removed]",
      "text/plain": [
       "<matplotlib.figure.Figure at 0x7f16816106a0>"
      ]
     },
     "metadata": {},
     "output_type": "display_data"
    }
   ],
   "source": [
    "experiment_dir = \"/home/flo/Documents/eth-asl-final-experiment-data/exp3/3_2_middleware_baseline_twomws_2017-11-26_193516\"\n",
    "workload = \"readOnly\"\n",
    "vcs = [1, 8, 16, 32, 64, 96, 128, 160]\n",
    "workers = [8, 16, 32, 64]\n",
    "dstat_filename = \"client_dstat_01.log\"\n",
    "server_dstat_filenames = [\"server_dstat_06.log\"]\n",
    "reps = 3\n",
    "truncate_sec = 10\n",
    "num_threads = 2\n",
    "\n",
    "all_metrics = []\n",
    "for vc in vcs:\n",
    "    for worker in workers:\n",
    "        inputdir = os.path.join(experiment_dir, \"{}_{}vc{}workers\".format(workload, vc, worker))\n",
    "        metrics = aggregate_dstat_all_servers(experiment_dir, reps, dstat_filename, server_dstat_filenames, truncate_sec)\n",
    "        metrics['num_clients'] = vc * num_threads\n",
    "        metrics['workers'] = worker\n",
    "        all_metrics.append(metrics)\n",
    "nice_table = pd.concat(all_metrics, axis=1).transpose()\n",
    "nice_table['recv'] = nice_table['recv'] / 1000000\n",
    "nice_table['send'] = nice_table['send'] / 1000000\n",
    "\n",
    "fig, ax = plt.subplots()\n",
    "color_cycler = cycler('color', ['#ccece6', '#66c2a4', '#238b45', '#00441b'])\n",
    "#ax.set_ylim([0, 30])\n",
    "ax.set_xlim([0, 350])\n",
    "ax.set_prop_cycle(color_cycler)\n",
    "for key, grp in nice_table.groupby(['workers']):\n",
    "    grp.plot(ax=ax, x='num_clients', y='send', label=\"{} workers\".format(int(key)), marker='o')\n",
    "    plt.xticks(grp['num_clients'])\n",
    "ax.legend(loc=\"best\", fontsize=\"small\")\n",
    "ax.set_xlabel(\"Number of clients\")\n",
    "ax.set_ylabel(\"Throughput (MB/s)\")\n",
    "\n",
    "plt.show()"
   ]
  },
  {
   "cell_type": "code",
   "execution_count": 53,
   "metadata": {},
   "outputs": [
    {
     "data": {
      "image/png": "[encoded data removed]",
      "text/plain": [
       "<matplotlib.figure.Figure at 0x7f168d0b2d30>"
      ]
     },
     "metadata": {},
     "output_type": "display_data"
    }
   ],
   "source": [
    "experiment_dir = \"/home/flo/Documents/eth-asl-final-experiment-data/exp3/3_2_rerun_twomt_2017-11-27_213817\"\n",
    "workload = \"readOnly\"\n",
    "vcs = [1, 8, 16, 32, 64, 96, 128, 160]\n",
    "workers = [8, 16, 32, 64]\n",
    "dstat_filename = \"client_dstat_01.log\"\n",
    "server_dstat_filenames = [\"server_dstat_06.log\"]\n",
    "reps = 3\n",
    "truncate_sec = 10\n",
    "num_threads = 4\n",
    "\n",
    "all_metrics = []\n",
    "for vc in vcs:\n",
    "    for worker in workers:\n",
    "        inputdir = os.path.join(experiment_dir, \"{}_{}vc{}workers\".format(workload, vc, worker))\n",
    "        metrics = aggregate_dstat_all_servers(experiment_dir, reps, dstat_filename, server_dstat_filenames, truncate_sec)\n",
    "        metrics['num_clients'] = vc * num_threads\n",
    "        metrics['workers'] = worker\n",
    "        all_metrics.append(metrics)\n",
    "nice_table = pd.concat(all_metrics, axis=1).transpose()\n",
    "nice_table['recv'] = nice_table['recv'] / 1000000\n",
    "nice_table['send'] = nice_table['send'] / 1000000\n",
    "\n",
    "fig, ax = plt.subplots()\n",
    "color_cycler = cycler('color', ['#ccece6', '#66c2a4', '#238b45', '#00441b'])\n",
    "#ax.set_ylim([0, 30])\n",
    "ax.set_xlim([0, 350])\n",
    "ax.set_prop_cycle(color_cycler)\n",
    "for key, grp in nice_table.groupby(['workers']):\n",
    "    grp.plot(ax=ax, x='num_clients', y='send', label=\"{} workers\".format(int(key)), marker='o')\n",
    "    plt.xticks(grp['num_clients'])\n",
    "ax.legend(loc=\"best\", fontsize=\"small\")\n",
    "ax.set_xlabel(\"Number of clients\")\n",
    "ax.set_ylabel(\"Throughput (MB/s)\")\n",
    "\n",
    "plt.show()"
   ]
  }
 ],
 "metadata": {
  "kernelspec": {
   "display_name": "Python 3",
   "language": "python",
   "name": "python3"
  },
  "language_info": {
   "codemirror_mode": {
    "name": "ipython",
    "version": 3
   },
   "file_extension": ".py",
   "mimetype": "text/x-python",
   "name": "python",
   "nbconvert_exporter": "python",
   "pygments_lexer": "ipython3",
   "version": "3.6.3"
  }
 },
 "nbformat": 4,
 "nbformat_minor": 2
}
