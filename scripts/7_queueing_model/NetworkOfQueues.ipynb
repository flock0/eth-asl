{
 "cells": [
  {
   "cell_type": "code",
   "execution_count": 1,
   "metadata": {
    "collapsed": true
   },
   "outputs": [],
   "source": [
    "import os\n",
    "import numpy as np\n",
    "import pandas as pd\n",
    "import matplotlib.pyplot as plt\n",
    "import directory_functions as dirfuncs\n",
    "import gather_middleware_statistics as gmws\n",
    "import gather_memtier_statistics as gmts\n",
    "import cut_away_warmup_cooldown as cut\n",
    "import math\n",
    "exp_dir = \"/home/flo/Documents/eth-asl-final-experiment-data/exp3/3_2_rerun_twomt_2017-11-27_213817\""
   ]
  },
  {
   "cell_type": "code",
   "execution_count": 2,
   "metadata": {
    "collapsed": true
   },
   "outputs": [],
   "source": [
    "# Get response times from MW for 6 multigets\n",
    "def gather_requests(exp_dir, reps, middlewares):\n",
    "    all_reps = []\n",
    "    for rep in reps:\n",
    "\n",
    "        middleware_dirs = [dirfuncs.get_only_subdir(os.path.join(exp_dir, str(rep), mw_dir)) for mw_dir in middlewares]\n",
    "        concatenated_requests = [gmws.concatenate_requestlogs(middleware_dir) for middleware_dir in middleware_dirs]\n",
    "\n",
    "\n",
    "        \n",
    "        metrics = [gmws.extract_metrics(reqs) for reqs in concatenated_requests]\n",
    "\n",
    "\n",
    "        cut_metrics = [cut.cut_away_warmup_cooldown(mets, 10, 72) for mets in metrics]\n",
    "\n",
    "        all_reps.extend(cut_metrics)\n",
    "        \n",
    "    return pd.concat(all_reps)\n"
   ]
  },
  {
   "cell_type": "code",
   "execution_count": 3,
   "metadata": {
    "scrolled": true
   },
   "outputs": [
    {
     "name": "stdout",
     "output_type": "stream",
     "text": [
      "Concatenating requestlogs in /home/flo/Documents/eth-asl-final-experiment-data/exp3/3_2_rerun_twomt_2017-11-27_213817/writeOnly_64vc8workers/1/middleware_04/2017-11-27 220626\n",
      "Concatenating requestlogs in /home/flo/Documents/eth-asl-final-experiment-data/exp3/3_2_rerun_twomt_2017-11-27_213817/writeOnly_64vc8workers/2/middleware_04/2017-11-27 230115\n",
      "Concatenating requestlogs in /home/flo/Documents/eth-asl-final-experiment-data/exp3/3_2_rerun_twomt_2017-11-27_213817/writeOnly_64vc8workers/3/middleware_04/2017-11-27 235558\n",
      "Concatenating requestlogs in /home/flo/Documents/eth-asl-final-experiment-data/exp3/3_2_rerun_twomt_2017-11-27_213817/writeOnly_64vc8workers/1/middleware_05/2017-11-27 220626\n",
      "Concatenating requestlogs in /home/flo/Documents/eth-asl-final-experiment-data/exp3/3_2_rerun_twomt_2017-11-27_213817/writeOnly_64vc8workers/2/middleware_05/2017-11-27 230115\n",
      "Concatenating requestlogs in /home/flo/Documents/eth-asl-final-experiment-data/exp3/3_2_rerun_twomt_2017-11-27_213817/writeOnly_64vc8workers/3/middleware_05/2017-11-27 235558\n"
     ]
    }
   ],
   "source": [
    "num_workers = 8\n",
    "run = \"writeOnly_64vc{}workers\".format(num_workers)\n",
    "inputdir = os.path.join(exp_dir, run)\n",
    "middlewares = [\"middleware_04\", \"middleware_05\"]\n",
    "                        \n",
    "reps_range = range(1, 4)\n",
    "reqs_mw1 = gather_requests(inputdir, reps_range, [\"middleware_04\"])\n",
    "reqs_mw2 = gather_requests(inputdir, reps_range, [\"middleware_05\"])\n"
   ]
  },
  {
   "cell_type": "code",
   "execution_count": 4,
   "metadata": {},
   "outputs": [
    {
     "name": "stdout",
     "output_type": "stream",
     "text": [
      "Extracting stats from ping log /home/flo/Documents/eth-asl-final-experiment-data/exp3/3_2_rerun_twomt_2017-11-27_213817/writeOnly_64vc8workers/1/client_ping_01_0.log\n",
      "Extracting stats from ping log /home/flo/Documents/eth-asl-final-experiment-data/exp3/3_2_rerun_twomt_2017-11-27_213817/writeOnly_64vc8workers/1/client_ping_01_1.log\n",
      "Extracting stats from ping log /home/flo/Documents/eth-asl-final-experiment-data/exp3/3_2_rerun_twomt_2017-11-27_213817/writeOnly_64vc8workers/1/client_ping_02_0.log\n",
      "Extracting stats from ping log /home/flo/Documents/eth-asl-final-experiment-data/exp3/3_2_rerun_twomt_2017-11-27_213817/writeOnly_64vc8workers/1/client_ping_02_1.log\n",
      "Extracting stats from ping log /home/flo/Documents/eth-asl-final-experiment-data/exp3/3_2_rerun_twomt_2017-11-27_213817/writeOnly_64vc8workers/2/client_ping_01_0.log\n",
      "Extracting stats from ping log /home/flo/Documents/eth-asl-final-experiment-data/exp3/3_2_rerun_twomt_2017-11-27_213817/writeOnly_64vc8workers/2/client_ping_01_1.log\n",
      "Extracting stats from ping log /home/flo/Documents/eth-asl-final-experiment-data/exp3/3_2_rerun_twomt_2017-11-27_213817/writeOnly_64vc8workers/2/client_ping_02_0.log\n",
      "Extracting stats from ping log /home/flo/Documents/eth-asl-final-experiment-data/exp3/3_2_rerun_twomt_2017-11-27_213817/writeOnly_64vc8workers/2/client_ping_02_1.log\n",
      "Extracting stats from ping log /home/flo/Documents/eth-asl-final-experiment-data/exp3/3_2_rerun_twomt_2017-11-27_213817/writeOnly_64vc8workers/3/client_ping_01_0.log\n",
      "Extracting stats from ping log /home/flo/Documents/eth-asl-final-experiment-data/exp3/3_2_rerun_twomt_2017-11-27_213817/writeOnly_64vc8workers/3/client_ping_01_1.log\n",
      "Extracting stats from ping log /home/flo/Documents/eth-asl-final-experiment-data/exp3/3_2_rerun_twomt_2017-11-27_213817/writeOnly_64vc8workers/3/client_ping_02_0.log\n",
      "Extracting stats from ping log /home/flo/Documents/eth-asl-final-experiment-data/exp3/3_2_rerun_twomt_2017-11-27_213817/writeOnly_64vc8workers/3/client_ping_02_1.log\n"
     ]
    }
   ],
   "source": [
    "ping_log_filenames_c1 = [\"client_ping_01_0.log\", \"client_ping_01_1.log\"]\n",
    "ping_log_filenames_c2 = [\"client_ping_02_0.log\", \"client_ping_02_1.log\"]\n",
    "\n",
    "all_rep_ping_logs_c1 = []\n",
    "all_rep_ping_logs_c2 = []\n",
    "for rep in reps_range:\n",
    "    rep_dir = os.path.join(inputdir, str(rep))\n",
    "    ping_log_filepaths_c1 = [os.path.join(rep_dir, logfile) for logfile in ping_log_filenames_c1]\n",
    "    ping_log_filepaths_c2 = [os.path.join(rep_dir, logfile) for logfile in ping_log_filenames_c2]\n",
    "    ping_logs_c1 = [gmts.extract_ping_logs(filepath) for filepath in ping_log_filepaths_c1]\n",
    "    ping_logs_c2 = [gmts.extract_ping_logs(filepath) for filepath in ping_log_filepaths_c2]\n",
    "    all_rep_ping_logs_c1.extend(ping_logs_c1)\n",
    "    all_rep_ping_logs_c2.extend(ping_logs_c2)\n",
    "\n",
    "avg_rtt_c1 = pd.concat(all_rep_ping_logs_c1)['rtt'].mean()\n",
    "avg_rtt_c2 = pd.concat(all_rep_ping_logs_c2)['rtt'].mean()"
   ]
  },
  {
   "cell_type": "code",
   "execution_count": 5,
   "metadata": {},
   "outputs": [
    {
     "name": "stdout",
     "output_type": "stream",
     "text": [
      "Concatenating requestlogs in /home/flo/Documents/eth-asl-final-experiment-data/exp3/3_2_rerun_twomt_2017-11-27_213817/writeOnly_64vc8workers/1/middleware_04/2017-11-27 220626\n",
      "Concatenating requestlogs in /home/flo/Documents/eth-asl-final-experiment-data/exp3/3_2_rerun_twomt_2017-11-27_213817/writeOnly_64vc8workers/1/middleware_05/2017-11-27 220626\n",
      "Concatenating requestlogs in /home/flo/Documents/eth-asl-final-experiment-data/exp3/3_2_rerun_twomt_2017-11-27_213817/writeOnly_64vc8workers/2/middleware_04/2017-11-27 230115\n",
      "Concatenating requestlogs in /home/flo/Documents/eth-asl-final-experiment-data/exp3/3_2_rerun_twomt_2017-11-27_213817/writeOnly_64vc8workers/2/middleware_05/2017-11-27 230115\n",
      "Concatenating requestlogs in /home/flo/Documents/eth-asl-final-experiment-data/exp3/3_2_rerun_twomt_2017-11-27_213817/writeOnly_64vc8workers/3/middleware_04/2017-11-27 235558\n",
      "Concatenating requestlogs in /home/flo/Documents/eth-asl-final-experiment-data/exp3/3_2_rerun_twomt_2017-11-27_213817/writeOnly_64vc8workers/3/middleware_05/2017-11-27 235558\n",
      "Extracting stats from client log /home/flo/Documents/eth-asl-final-experiment-data/exp3/3_2_rerun_twomt_2017-11-27_213817/writeOnly_64vc8workers/1/client_01_0.log\n",
      "Extracting stats from client log /home/flo/Documents/eth-asl-final-experiment-data/exp3/3_2_rerun_twomt_2017-11-27_213817/writeOnly_64vc8workers/1/client_01_1.log\n",
      "Extracting stats from client log /home/flo/Documents/eth-asl-final-experiment-data/exp3/3_2_rerun_twomt_2017-11-27_213817/writeOnly_64vc8workers/1/client_02_0.log\n",
      "Extracting stats from client log /home/flo/Documents/eth-asl-final-experiment-data/exp3/3_2_rerun_twomt_2017-11-27_213817/writeOnly_64vc8workers/1/client_02_1.log\n",
      "Extracting stats from client log /home/flo/Documents/eth-asl-final-experiment-data/exp3/3_2_rerun_twomt_2017-11-27_213817/writeOnly_64vc8workers/2/client_01_0.log\n",
      "Extracting stats from client log /home/flo/Documents/eth-asl-final-experiment-data/exp3/3_2_rerun_twomt_2017-11-27_213817/writeOnly_64vc8workers/2/client_01_1.log\n",
      "Extracting stats from client log /home/flo/Documents/eth-asl-final-experiment-data/exp3/3_2_rerun_twomt_2017-11-27_213817/writeOnly_64vc8workers/2/client_02_0.log\n",
      "Extracting stats from client log /home/flo/Documents/eth-asl-final-experiment-data/exp3/3_2_rerun_twomt_2017-11-27_213817/writeOnly_64vc8workers/2/client_02_1.log\n",
      "Extracting stats from client log /home/flo/Documents/eth-asl-final-experiment-data/exp3/3_2_rerun_twomt_2017-11-27_213817/writeOnly_64vc8workers/3/client_01_0.log\n",
      "Extracting stats from client log /home/flo/Documents/eth-asl-final-experiment-data/exp3/3_2_rerun_twomt_2017-11-27_213817/writeOnly_64vc8workers/3/client_01_1.log\n",
      "Extracting stats from client log /home/flo/Documents/eth-asl-final-experiment-data/exp3/3_2_rerun_twomt_2017-11-27_213817/writeOnly_64vc8workers/3/client_02_0.log\n",
      "Extracting stats from client log /home/flo/Documents/eth-asl-final-experiment-data/exp3/3_2_rerun_twomt_2017-11-27_213817/writeOnly_64vc8workers/3/client_02_1.log\n"
     ]
    }
   ],
   "source": [
    "client_logfiles = [\"client_01_0.log\", \"client_01_1.log\", \"client_02_0.log\", \"client_02_1.log\"]\n",
    "\n",
    "all_reps = []\n",
    "for rep in reps_range:\n",
    "\n",
    "    log_folder_path = os.path.join(inputdir, str(int(rep)))\n",
    "\n",
    "    # Now we extract throughput, responsetime, average queuetime and missrate from the middleware\n",
    "    middleware_dirs = [dirfuncs.get_only_subdir(os.path.join(log_folder_path, mw_dir)) for mw_dir in middlewares]\n",
    "    concatenated_requests = [gmws.concatenate_requestlogs(middleware_dir) for middleware_dir in middleware_dirs]\n",
    "    metrics = [gmws.extract_metrics(reqs) for reqs in concatenated_requests]\n",
    "    cut_metrics = [cut.cut_away_warmup_cooldown(mets, 10, 72) for mets in metrics]\n",
    "    windows = [gmws.aggregate_over_windows(cut_mets) for cut_mets in cut_metrics]\n",
    "    rep_metrics = gmws.aggregate_over_middlewares(windows)\n",
    "    all_reps.append(rep_metrics)\n",
    "\n",
    "mw_agg_over_reps = gmws.aggregate_over_reps(all_reps)\n",
    "mw_averages = gmws.aggregate_over_timesteps(mw_agg_over_reps)\n",
    "avg = mw_averages.loc['mean', :]\n",
    "\n",
    "all_rep_windows = []\n",
    "for rep in reps_range:\n",
    "\n",
    "    log_folder_path = os.path.join(inputdir, str(rep))\n",
    "\n",
    "    client_logfile_paths = [os.path.join(log_folder_path, client_logfile) for client_logfile in client_logfiles]\n",
    "    window = gmts.aggregate_over_clients(client_logfile_paths)\n",
    "    window = cut.cut_away_warmup_cooldown(window, 10, 72)\n",
    "    all_rep_windows.append(window)\n",
    "\n",
    "mt_agg_over_reps = gmts.aggregate_over_reps(all_rep_windows)\n",
    "mt_averages = gmts.aggregate_over_timesteps(mt_agg_over_reps)"
   ]
  },
  {
   "cell_type": "code",
   "execution_count": 6,
   "metadata": {
    "scrolled": true
   },
   "outputs": [
    {
     "name": "stdout",
     "output_type": "stream",
     "text": [
      "Service times input for simple model:\n",
      "1: 1.2930\n",
      "2: 1.0774\n",
      "3: 0.0048\n",
      "4: 0.0040\n",
      "5: 2.5422\n",
      "6: 2.3935\n",
      "7: 1.2930\n",
      "8: 1.0774\n",
      "\n",
      "\n",
      "\n",
      "Actually measured metrics: (compare with model output)\n",
      "Throughput MW1: 3097.04\n",
      "Throughput MW2: 3300.54\n",
      "Queue Length MW1: 112.98\n",
      "Queue Length MW2: 111.77\n",
      "Total Throughput MT: 6420.49\n",
      "Avg Response Time MT: 39.6781\n",
      "Utilization MW1 NetThread: 0.00\n",
      "Utilization MW2 NetThread: 0.00\n",
      "Utilization MW1 workers: 0.98\n",
      "Utilization MW2 workers: 0.99\n",
      "Utilization MW1 memcached: 0.98\n",
      "Utilization MW2 memcached: 0.98\n"
     ]
    }
   ],
   "source": [
    "print(\"Service times input for simple model:\")\n",
    "print(\"1: {:0.4f}\".format(avg_rtt_c1/2))\n",
    "print(\"2: {:0.4f}\".format(avg_rtt_c2/2))\n",
    "print(\"3: {:0.4f}\".format(reqs_mw1['netthreadServiceTime_ms'].mean()))\n",
    "print(\"4: {:0.4f}\".format(reqs_mw2['netthreadServiceTime_ms'].mean()))\n",
    "print(\"5: {:0.4f}\".format(reqs_mw1['workerServiceTime_ms'].mean()))\n",
    "print(\"6: {:0.4f}\".format(reqs_mw2['workerServiceTime_ms'].mean()))\n",
    "print(\"7: {:0.4f}\".format(avg_rtt_c1/2))\n",
    "print(\"8: {:0.4f}\".format(avg_rtt_c2/2))\n",
    "\n",
    "print(\"\\n\\n\")\n",
    "\n",
    "xput_mw1 = reqs_mw1['responseTime_ms'].count() / (reqs_mw1.index.max() - reqs_mw1.index.min()) * 20 / 3\n",
    "xput_mw2 = reqs_mw2['responseTime_ms'].count() / (reqs_mw2.index.max() - reqs_mw2.index.min()) * 20 / 3\n",
    "print(\"Actually measured metrics: (compare with model output)\")\n",
    "print(\"Throughput MW1: {:0.2f}\".format(xput_mw1))\n",
    "print(\"Throughput MW2: {:0.2f}\".format(xput_mw2))\n",
    "print(\"Queue Length MW1: {:0.2f}\".format(reqs_mw1['queueLength'].mean()))\n",
    "print(\"Queue Length MW2: {:0.2f}\".format(reqs_mw2['queueLength'].mean()))\n",
    "print(\"Total Throughput MT: {:0.2f}\".format(mt_averages.loc['mean', 'throughput']))\n",
    "print(\"Avg Response Time MT: {:0.4f}\".format(mt_averages.loc['mean', 'responsetime']))\n",
    "print(\"Utilization MW1 NetThread: {:0.2f}\".format(xput_mw1 / 1000 * reqs_mw1['netthreadServiceTime_ms'].mean() / num_workers))\n",
    "print(\"Utilization MW2 NetThread: {:0.2f}\".format(xput_mw2 / 1000 * reqs_mw2['netthreadServiceTime_ms'].mean() / num_workers))\n",
    "print(\"Utilization MW1 workers: {:0.2f}\".format(xput_mw1 / 1000 * reqs_mw1['workerServiceTime_ms'].mean() / num_workers))\n",
    "print(\"Utilization MW2 workers: {:0.2f}\".format(xput_mw2 / 1000 * reqs_mw2['workerServiceTime_ms'].mean() / num_workers))\n",
    "\n",
    "print(\"Utilization MW1 memcached: {:0.2f}\".format(xput_mw1 / 1000 * reqs_mw1['memcachedRTT_ms'].mean() / num_workers))\n",
    "print(\"Utilization MW2 memcached: {:0.2f}\".format(xput_mw2 / 1000 * reqs_mw2['memcachedRTT_ms'].mean() / num_workers))"
   ]
  },
  {
   "cell_type": "code",
   "execution_count": 7,
   "metadata": {
    "scrolled": true
   },
   "outputs": [
    {
     "data": {
      "text/plain": [
       "2.4655071394019856"
      ]
     },
     "execution_count": 7,
     "metadata": {},
     "output_type": "execute_result"
    }
   ],
   "source": [
    "pd.concat([reqs_mw1, reqs_mw2])['workerServiceTime_ms'].mean()"
   ]
  },
  {
   "cell_type": "code",
   "execution_count": null,
   "metadata": {
    "collapsed": true
   },
   "outputs": [],
   "source": []
  }
 ],
 "metadata": {
  "kernelspec": {
   "display_name": "Python 3",
   "language": "python",
   "name": "python3"
  },
  "language_info": {
   "codemirror_mode": {
    "name": "ipython",
    "version": 3
   },
   "file_extension": ".py",
   "mimetype": "text/x-python",
   "name": "python",
   "nbconvert_exporter": "python",
   "pygments_lexer": "ipython3",
   "version": "3.6.3"
  }
 },
 "nbformat": 4,
 "nbformat_minor": 2
}
